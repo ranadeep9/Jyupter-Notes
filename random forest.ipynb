{
 "cells": [
  {
   "cell_type": "code",
   "execution_count": 4,
   "id": "82cbd7a7",
   "metadata": {},
   "outputs": [],
   "source": [
    "def func1(b,a = 45,c=55,d=[]):\n",
    "    pass"
   ]
  },
  {
   "cell_type": "code",
   "execution_count": 5,
   "id": "bb1196da",
   "metadata": {},
   "outputs": [
    {
     "name": "stdout",
     "output_type": "stream",
     "text": [
      "(45, 55, [])\n"
     ]
    }
   ],
   "source": [
    "# find default arguments in function\n",
    "print(func1.__defaults__)"
   ]
  },
  {
   "cell_type": "code",
   "execution_count": 9,
   "id": "aa45b8ec",
   "metadata": {},
   "outputs": [
    {
     "name": "stdout",
     "output_type": "stream",
     "text": [
      "Enter your choice 1 / 2 / 3 / 4 \n",
      "4\n",
      "Enter First Number :---\n",
      "96\n",
      "Enter Second Number :----\n",
      "48\n",
      "The Output is :  2.0\n"
     ]
    }
   ],
   "source": [
    "# 1.,2.\n",
    "def add(a,b):\n",
    "    return a+b\n",
    "def sub(a,b):\n",
    "    return a-b\n",
    "def mul(a,b):\n",
    "    return a*b\n",
    "def div(a,b):\n",
    "    return a/b\n",
    "\n",
    "choice = int(input(\"Enter your choice 1 / 2 / 3 / 4 \\n\"))\n",
    "num1 = float(input(\"Enter First Number :---\\n\"))\n",
    "num2 = float(input(\"Enter Second Number :----\\n\"))\n",
    "\n",
    "if choice == 1:\n",
    "    dt = add(num1,num2)\n",
    "    print(\"The Output is : \",dt)\n",
    "elif choice == 2:\n",
    "    dt = sub(num1,num2)\n",
    "    print(\"The Output is : \",dt)\n",
    "elif choice == 3:\n",
    "    dt = mul(num1,num2)\n",
    "    print(\"The Output is : \",dt)\n",
    "elif choice == 4:\n",
    "    dt = div(num1,num2)\n",
    "    print(\"The Output is : \",dt)\n",
    "else:\n",
    "    print(\"Invalid....\")\n",
    "    "
   ]
  },
  {
   "cell_type": "code",
   "execution_count": 11,
   "id": "7366721c",
   "metadata": {},
   "outputs": [],
   "source": [
    "# implement function to identify even , odd:\n",
    "def funct2(num_lst):\n",
    "    eve_num = []\n",
    "    odd_num = []\n",
    "    \n",
    "    for number in num_lst:\n",
    "        if number % 2 ==0:\n",
    "            eve_num.append(number)\n",
    "        else:\n",
    "            odd_num.append(number)\n",
    "    print(\"the even number are ...\",eve_num)\n",
    "    print(\"the odd number are ....\",odd_num)"
   ]
  },
  {
   "cell_type": "code",
   "execution_count": 12,
   "id": "a633ea14",
   "metadata": {},
   "outputs": [
    {
     "name": "stdout",
     "output_type": "stream",
     "text": [
      "the even number are ... [2, 4, 6, 8]\n",
      "the odd number are .... [1, 3, 5, 7]\n"
     ]
    }
   ],
   "source": [
    "funct2([1,2,3,4,5,6,7,8])"
   ]
  },
  {
   "cell_type": "code",
   "execution_count": 14,
   "id": "058046db",
   "metadata": {},
   "outputs": [],
   "source": [
    "#lambda Expression :\n",
    "# vari : variable - expresion\n",
    "x = lambda num:num*2"
   ]
  },
  {
   "cell_type": "code",
   "execution_count": 15,
   "id": "02c3b366",
   "metadata": {},
   "outputs": [
    {
     "name": "stdout",
     "output_type": "stream",
     "text": [
      "<function <lambda> at 0x000002BBC5471DA0>\n"
     ]
    }
   ],
   "source": [
    "print(x)"
   ]
  },
  {
   "cell_type": "code",
   "execution_count": 16,
   "id": "23cd810f",
   "metadata": {},
   "outputs": [],
   "source": [
    "num = list(range(0,9))"
   ]
  },
  {
   "cell_type": "code",
   "execution_count": 17,
   "id": "0a397d55",
   "metadata": {},
   "outputs": [
    {
     "name": "stdout",
     "output_type": "stream",
     "text": [
      "[0, 1, 2, 3, 4, 5, 6, 7, 8]\n"
     ]
    }
   ],
   "source": [
    "print(num)"
   ]
  },
  {
   "cell_type": "code",
   "execution_count": 19,
   "id": "2cb7456d",
   "metadata": {},
   "outputs": [
    {
     "name": "stdout",
     "output_type": "stream",
     "text": [
      "[0, 1, 2, 3, 4, 5, 6, 7, 8]\n"
     ]
    }
   ],
   "source": [
    "\n",
    "print(num)"
   ]
  },
  {
   "cell_type": "code",
   "execution_count": 20,
   "id": "8ab28995",
   "metadata": {},
   "outputs": [
    {
     "data": {
      "text/plain": [
       "4"
      ]
     },
     "execution_count": 20,
     "metadata": {},
     "output_type": "execute_result"
    }
   ],
   "source": [
    "x(2)"
   ]
  },
  {
   "cell_type": "code",
   "execution_count": 23,
   "id": "f39e3a0f",
   "metadata": {},
   "outputs": [
    {
     "data": {
      "text/plain": [
       "6"
      ]
     },
     "execution_count": 23,
     "metadata": {},
     "output_type": "execute_result"
    }
   ],
   "source": [
    "x = lambda num : num*2\n",
    "x(3)"
   ]
  },
  {
   "cell_type": "code",
   "execution_count": 25,
   "id": "f8b347d4",
   "metadata": {},
   "outputs": [
    {
     "data": {
      "text/plain": [
       "[0, 2, 4, 6, 8, 10, 12, 14, 16]"
      ]
     },
     "execution_count": 25,
     "metadata": {},
     "output_type": "execute_result"
    }
   ],
   "source": [
    "my_lst = list(range(0,9))\n",
    "list(map(lambda num:num*2,my_lst))"
   ]
  },
  {
   "cell_type": "code",
   "execution_count": 26,
   "id": "72dcb881",
   "metadata": {},
   "outputs": [
    {
     "data": {
      "text/plain": [
       "[0, 2, 4, 6, 8]"
      ]
     },
     "execution_count": 26,
     "metadata": {},
     "output_type": "execute_result"
    }
   ],
   "source": [
    "list(filter(lambda n:n%2 ==0,my_lst))"
   ]
  },
  {
   "cell_type": "code",
   "execution_count": 28,
   "id": "7e41d00a",
   "metadata": {},
   "outputs": [],
   "source": [
    "def positi_fun(num):\n",
    "    if num >0:\n",
    "        return num\n",
    "    \n"
   ]
  },
  {
   "cell_type": "code",
   "execution_count": 30,
   "id": "13da39c3",
   "metadata": {},
   "outputs": [
    {
     "name": "stdout",
     "output_type": "stream",
     "text": [
      "[-10, -9, -8, -7, -6, -5, -4, -3, -2, -1, 0, 1, 2, 3, 4, 5, 6, 7, 8, 9]\n",
      "************\n",
      "[1, 2, 3, 4, 5, 6, 7, 8, 9]\n"
     ]
    }
   ],
   "source": [
    "num_lst = range(-10,10)\n",
    "print(list(num_lst))\n",
    "\n",
    "print(\"************\")\n",
    "positi_num = list(filter(positi_fun,num_lst))\n",
    "print(positi_num)"
   ]
  },
  {
   "cell_type": "code",
   "execution_count": 31,
   "id": "f7dea487",
   "metadata": {},
   "outputs": [],
   "source": [
    "import pandas as pd\n",
    "import numpy as np\n",
    "import matplotlib.pyplot as plt\n",
    "import seaborn as sns"
   ]
  },
  {
   "cell_type": "code",
   "execution_count": 32,
   "id": "7c330851",
   "metadata": {},
   "outputs": [
    {
     "data": {
      "text/html": [
       "<div>\n",
       "<style scoped>\n",
       "    .dataframe tbody tr th:only-of-type {\n",
       "        vertical-align: middle;\n",
       "    }\n",
       "\n",
       "    .dataframe tbody tr th {\n",
       "        vertical-align: top;\n",
       "    }\n",
       "\n",
       "    .dataframe thead th {\n",
       "        text-align: right;\n",
       "    }\n",
       "</style>\n",
       "<table border=\"1\" class=\"dataframe\">\n",
       "  <thead>\n",
       "    <tr style=\"text-align: right;\">\n",
       "      <th></th>\n",
       "      <th>Kyphosis</th>\n",
       "      <th>Age</th>\n",
       "      <th>Number</th>\n",
       "      <th>Start</th>\n",
       "    </tr>\n",
       "  </thead>\n",
       "  <tbody>\n",
       "    <tr>\n",
       "      <th>0</th>\n",
       "      <td>absent</td>\n",
       "      <td>71</td>\n",
       "      <td>3</td>\n",
       "      <td>5</td>\n",
       "    </tr>\n",
       "    <tr>\n",
       "      <th>1</th>\n",
       "      <td>absent</td>\n",
       "      <td>158</td>\n",
       "      <td>3</td>\n",
       "      <td>14</td>\n",
       "    </tr>\n",
       "    <tr>\n",
       "      <th>2</th>\n",
       "      <td>present</td>\n",
       "      <td>128</td>\n",
       "      <td>4</td>\n",
       "      <td>5</td>\n",
       "    </tr>\n",
       "    <tr>\n",
       "      <th>3</th>\n",
       "      <td>absent</td>\n",
       "      <td>2</td>\n",
       "      <td>5</td>\n",
       "      <td>1</td>\n",
       "    </tr>\n",
       "    <tr>\n",
       "      <th>4</th>\n",
       "      <td>absent</td>\n",
       "      <td>1</td>\n",
       "      <td>4</td>\n",
       "      <td>15</td>\n",
       "    </tr>\n",
       "    <tr>\n",
       "      <th>...</th>\n",
       "      <td>...</td>\n",
       "      <td>...</td>\n",
       "      <td>...</td>\n",
       "      <td>...</td>\n",
       "    </tr>\n",
       "    <tr>\n",
       "      <th>76</th>\n",
       "      <td>present</td>\n",
       "      <td>157</td>\n",
       "      <td>3</td>\n",
       "      <td>13</td>\n",
       "    </tr>\n",
       "    <tr>\n",
       "      <th>77</th>\n",
       "      <td>absent</td>\n",
       "      <td>26</td>\n",
       "      <td>7</td>\n",
       "      <td>13</td>\n",
       "    </tr>\n",
       "    <tr>\n",
       "      <th>78</th>\n",
       "      <td>absent</td>\n",
       "      <td>120</td>\n",
       "      <td>2</td>\n",
       "      <td>13</td>\n",
       "    </tr>\n",
       "    <tr>\n",
       "      <th>79</th>\n",
       "      <td>present</td>\n",
       "      <td>42</td>\n",
       "      <td>7</td>\n",
       "      <td>6</td>\n",
       "    </tr>\n",
       "    <tr>\n",
       "      <th>80</th>\n",
       "      <td>absent</td>\n",
       "      <td>36</td>\n",
       "      <td>4</td>\n",
       "      <td>13</td>\n",
       "    </tr>\n",
       "  </tbody>\n",
       "</table>\n",
       "<p>81 rows × 4 columns</p>\n",
       "</div>"
      ],
      "text/plain": [
       "   Kyphosis  Age  Number  Start\n",
       "0    absent   71       3      5\n",
       "1    absent  158       3     14\n",
       "2   present  128       4      5\n",
       "3    absent    2       5      1\n",
       "4    absent    1       4     15\n",
       "..      ...  ...     ...    ...\n",
       "76  present  157       3     13\n",
       "77   absent   26       7     13\n",
       "78   absent  120       2     13\n",
       "79  present   42       7      6\n",
       "80   absent   36       4     13\n",
       "\n",
       "[81 rows x 4 columns]"
      ]
     },
     "execution_count": 32,
     "metadata": {},
     "output_type": "execute_result"
    }
   ],
   "source": [
    "df = pd.read_csv(\"1.Data/kyphosis.csv\")\n",
    "df"
   ]
  },
  {
   "cell_type": "code",
   "execution_count": 33,
   "id": "eb1cba1d",
   "metadata": {},
   "outputs": [
    {
     "name": "stdout",
     "output_type": "stream",
     "text": [
      "<class 'pandas.core.frame.DataFrame'>\n",
      "RangeIndex: 81 entries, 0 to 80\n",
      "Data columns (total 4 columns):\n",
      " #   Column    Non-Null Count  Dtype \n",
      "---  ------    --------------  ----- \n",
      " 0   Kyphosis  81 non-null     object\n",
      " 1   Age       81 non-null     int64 \n",
      " 2   Number    81 non-null     int64 \n",
      " 3   Start     81 non-null     int64 \n",
      "dtypes: int64(3), object(1)\n",
      "memory usage: 2.7+ KB\n"
     ]
    }
   ],
   "source": [
    "df.info()"
   ]
  },
  {
   "cell_type": "code",
   "execution_count": 34,
   "id": "cc40bb53",
   "metadata": {},
   "outputs": [],
   "source": [
    "\n"
   ]
  },
  {
   "cell_type": "code",
   "execution_count": 39,
   "id": "64af0be8",
   "metadata": {},
   "outputs": [],
   "source": [
    "X = df.drop('Kyphosis',axis = 1)\n",
    "y = df['Kyphosis']\n",
    "from sklearn.model_selection import train_test_split\n",
    "X_train, X_test, y_train, y_test = train_test_split(X, y,\n",
    "                                                    test_size=0.33,\n",
    "                                                    random_state=101)"
   ]
  },
  {
   "cell_type": "code",
   "execution_count": 40,
   "id": "5df93d57",
   "metadata": {},
   "outputs": [],
   "source": [
    "from sklearn.tree import DecisionTreeClassifier"
   ]
  },
  {
   "cell_type": "code",
   "execution_count": 41,
   "id": "95ccfe8a",
   "metadata": {},
   "outputs": [],
   "source": [
    "dtree = DecisionTreeClassifier()\n"
   ]
  },
  {
   "cell_type": "code",
   "execution_count": 42,
   "id": "eaee7bcd",
   "metadata": {},
   "outputs": [
    {
     "data": {
      "text/html": [
       "<style>#sk-container-id-1 {color: black;}#sk-container-id-1 pre{padding: 0;}#sk-container-id-1 div.sk-toggleable {background-color: white;}#sk-container-id-1 label.sk-toggleable__label {cursor: pointer;display: block;width: 100%;margin-bottom: 0;padding: 0.3em;box-sizing: border-box;text-align: center;}#sk-container-id-1 label.sk-toggleable__label-arrow:before {content: \"▸\";float: left;margin-right: 0.25em;color: #696969;}#sk-container-id-1 label.sk-toggleable__label-arrow:hover:before {color: black;}#sk-container-id-1 div.sk-estimator:hover label.sk-toggleable__label-arrow:before {color: black;}#sk-container-id-1 div.sk-toggleable__content {max-height: 0;max-width: 0;overflow: hidden;text-align: left;background-color: #f0f8ff;}#sk-container-id-1 div.sk-toggleable__content pre {margin: 0.2em;color: black;border-radius: 0.25em;background-color: #f0f8ff;}#sk-container-id-1 input.sk-toggleable__control:checked~div.sk-toggleable__content {max-height: 200px;max-width: 100%;overflow: auto;}#sk-container-id-1 input.sk-toggleable__control:checked~label.sk-toggleable__label-arrow:before {content: \"▾\";}#sk-container-id-1 div.sk-estimator input.sk-toggleable__control:checked~label.sk-toggleable__label {background-color: #d4ebff;}#sk-container-id-1 div.sk-label input.sk-toggleable__control:checked~label.sk-toggleable__label {background-color: #d4ebff;}#sk-container-id-1 input.sk-hidden--visually {border: 0;clip: rect(1px 1px 1px 1px);clip: rect(1px, 1px, 1px, 1px);height: 1px;margin: -1px;overflow: hidden;padding: 0;position: absolute;width: 1px;}#sk-container-id-1 div.sk-estimator {font-family: monospace;background-color: #f0f8ff;border: 1px dotted black;border-radius: 0.25em;box-sizing: border-box;margin-bottom: 0.5em;}#sk-container-id-1 div.sk-estimator:hover {background-color: #d4ebff;}#sk-container-id-1 div.sk-parallel-item::after {content: \"\";width: 100%;border-bottom: 1px solid gray;flex-grow: 1;}#sk-container-id-1 div.sk-label:hover label.sk-toggleable__label {background-color: #d4ebff;}#sk-container-id-1 div.sk-serial::before {content: \"\";position: absolute;border-left: 1px solid gray;box-sizing: border-box;top: 0;bottom: 0;left: 50%;z-index: 0;}#sk-container-id-1 div.sk-serial {display: flex;flex-direction: column;align-items: center;background-color: white;padding-right: 0.2em;padding-left: 0.2em;position: relative;}#sk-container-id-1 div.sk-item {position: relative;z-index: 1;}#sk-container-id-1 div.sk-parallel {display: flex;align-items: stretch;justify-content: center;background-color: white;position: relative;}#sk-container-id-1 div.sk-item::before, #sk-container-id-1 div.sk-parallel-item::before {content: \"\";position: absolute;border-left: 1px solid gray;box-sizing: border-box;top: 0;bottom: 0;left: 50%;z-index: -1;}#sk-container-id-1 div.sk-parallel-item {display: flex;flex-direction: column;z-index: 1;position: relative;background-color: white;}#sk-container-id-1 div.sk-parallel-item:first-child::after {align-self: flex-end;width: 50%;}#sk-container-id-1 div.sk-parallel-item:last-child::after {align-self: flex-start;width: 50%;}#sk-container-id-1 div.sk-parallel-item:only-child::after {width: 0;}#sk-container-id-1 div.sk-dashed-wrapped {border: 1px dashed gray;margin: 0 0.4em 0.5em 0.4em;box-sizing: border-box;padding-bottom: 0.4em;background-color: white;}#sk-container-id-1 div.sk-label label {font-family: monospace;font-weight: bold;display: inline-block;line-height: 1.2em;}#sk-container-id-1 div.sk-label-container {text-align: center;}#sk-container-id-1 div.sk-container {/* jupyter's `normalize.less` sets `[hidden] { display: none; }` but bootstrap.min.css set `[hidden] { display: none !important; }` so we also need the `!important` here to be able to override the default hidden behavior on the sphinx rendered scikit-learn.org. See: https://github.com/scikit-learn/scikit-learn/issues/21755 */display: inline-block !important;position: relative;}#sk-container-id-1 div.sk-text-repr-fallback {display: none;}</style><div id=\"sk-container-id-1\" class=\"sk-top-container\"><div class=\"sk-text-repr-fallback\"><pre>DecisionTreeClassifier()</pre><b>In a Jupyter environment, please rerun this cell to show the HTML representation or trust the notebook. <br />On GitHub, the HTML representation is unable to render, please try loading this page with nbviewer.org.</b></div><div class=\"sk-container\" hidden><div class=\"sk-item\"><div class=\"sk-estimator sk-toggleable\"><input class=\"sk-toggleable__control sk-hidden--visually\" id=\"sk-estimator-id-1\" type=\"checkbox\" checked><label for=\"sk-estimator-id-1\" class=\"sk-toggleable__label sk-toggleable__label-arrow\">DecisionTreeClassifier</label><div class=\"sk-toggleable__content\"><pre>DecisionTreeClassifier()</pre></div></div></div></div></div>"
      ],
      "text/plain": [
       "DecisionTreeClassifier()"
      ]
     },
     "execution_count": 42,
     "metadata": {},
     "output_type": "execute_result"
    }
   ],
   "source": [
    "dtree.fit(X_train,y_train)"
   ]
  },
  {
   "cell_type": "code",
   "execution_count": 43,
   "id": "d443a8db",
   "metadata": {},
   "outputs": [],
   "source": [
    "predictions = dtree.predict(X_test)"
   ]
  },
  {
   "cell_type": "code",
   "execution_count": 44,
   "id": "c5e10aac",
   "metadata": {},
   "outputs": [],
   "source": [
    "from sklearn.metrics import classification_report,confusion_matrix"
   ]
  },
  {
   "cell_type": "code",
   "execution_count": 45,
   "id": "b485d163",
   "metadata": {},
   "outputs": [
    {
     "name": "stdout",
     "output_type": "stream",
     "text": [
      "              precision    recall  f1-score   support\n",
      "\n",
      "      absent       0.70      0.74      0.72        19\n",
      "     present       0.29      0.25      0.27         8\n",
      "\n",
      "    accuracy                           0.59        27\n",
      "   macro avg       0.49      0.49      0.49        27\n",
      "weighted avg       0.58      0.59      0.58        27\n",
      "\n",
      "[[14  5]\n",
      " [ 6  2]]\n"
     ]
    }
   ],
   "source": [
    "print(classification_report(y_test,predictions))\n",
    "print(confusion_matrix(y_test,predictions))"
   ]
  },
  {
   "cell_type": "code",
   "execution_count": 46,
   "id": "f3e97d97",
   "metadata": {},
   "outputs": [],
   "source": [
    "from sklearn.ensemble import RandomForestClassifier"
   ]
  },
  {
   "cell_type": "code",
   "execution_count": 47,
   "id": "0c4df3d7",
   "metadata": {},
   "outputs": [
    {
     "data": {
      "text/html": [
       "<style>#sk-container-id-2 {color: black;}#sk-container-id-2 pre{padding: 0;}#sk-container-id-2 div.sk-toggleable {background-color: white;}#sk-container-id-2 label.sk-toggleable__label {cursor: pointer;display: block;width: 100%;margin-bottom: 0;padding: 0.3em;box-sizing: border-box;text-align: center;}#sk-container-id-2 label.sk-toggleable__label-arrow:before {content: \"▸\";float: left;margin-right: 0.25em;color: #696969;}#sk-container-id-2 label.sk-toggleable__label-arrow:hover:before {color: black;}#sk-container-id-2 div.sk-estimator:hover label.sk-toggleable__label-arrow:before {color: black;}#sk-container-id-2 div.sk-toggleable__content {max-height: 0;max-width: 0;overflow: hidden;text-align: left;background-color: #f0f8ff;}#sk-container-id-2 div.sk-toggleable__content pre {margin: 0.2em;color: black;border-radius: 0.25em;background-color: #f0f8ff;}#sk-container-id-2 input.sk-toggleable__control:checked~div.sk-toggleable__content {max-height: 200px;max-width: 100%;overflow: auto;}#sk-container-id-2 input.sk-toggleable__control:checked~label.sk-toggleable__label-arrow:before {content: \"▾\";}#sk-container-id-2 div.sk-estimator input.sk-toggleable__control:checked~label.sk-toggleable__label {background-color: #d4ebff;}#sk-container-id-2 div.sk-label input.sk-toggleable__control:checked~label.sk-toggleable__label {background-color: #d4ebff;}#sk-container-id-2 input.sk-hidden--visually {border: 0;clip: rect(1px 1px 1px 1px);clip: rect(1px, 1px, 1px, 1px);height: 1px;margin: -1px;overflow: hidden;padding: 0;position: absolute;width: 1px;}#sk-container-id-2 div.sk-estimator {font-family: monospace;background-color: #f0f8ff;border: 1px dotted black;border-radius: 0.25em;box-sizing: border-box;margin-bottom: 0.5em;}#sk-container-id-2 div.sk-estimator:hover {background-color: #d4ebff;}#sk-container-id-2 div.sk-parallel-item::after {content: \"\";width: 100%;border-bottom: 1px solid gray;flex-grow: 1;}#sk-container-id-2 div.sk-label:hover label.sk-toggleable__label {background-color: #d4ebff;}#sk-container-id-2 div.sk-serial::before {content: \"\";position: absolute;border-left: 1px solid gray;box-sizing: border-box;top: 0;bottom: 0;left: 50%;z-index: 0;}#sk-container-id-2 div.sk-serial {display: flex;flex-direction: column;align-items: center;background-color: white;padding-right: 0.2em;padding-left: 0.2em;position: relative;}#sk-container-id-2 div.sk-item {position: relative;z-index: 1;}#sk-container-id-2 div.sk-parallel {display: flex;align-items: stretch;justify-content: center;background-color: white;position: relative;}#sk-container-id-2 div.sk-item::before, #sk-container-id-2 div.sk-parallel-item::before {content: \"\";position: absolute;border-left: 1px solid gray;box-sizing: border-box;top: 0;bottom: 0;left: 50%;z-index: -1;}#sk-container-id-2 div.sk-parallel-item {display: flex;flex-direction: column;z-index: 1;position: relative;background-color: white;}#sk-container-id-2 div.sk-parallel-item:first-child::after {align-self: flex-end;width: 50%;}#sk-container-id-2 div.sk-parallel-item:last-child::after {align-self: flex-start;width: 50%;}#sk-container-id-2 div.sk-parallel-item:only-child::after {width: 0;}#sk-container-id-2 div.sk-dashed-wrapped {border: 1px dashed gray;margin: 0 0.4em 0.5em 0.4em;box-sizing: border-box;padding-bottom: 0.4em;background-color: white;}#sk-container-id-2 div.sk-label label {font-family: monospace;font-weight: bold;display: inline-block;line-height: 1.2em;}#sk-container-id-2 div.sk-label-container {text-align: center;}#sk-container-id-2 div.sk-container {/* jupyter's `normalize.less` sets `[hidden] { display: none; }` but bootstrap.min.css set `[hidden] { display: none !important; }` so we also need the `!important` here to be able to override the default hidden behavior on the sphinx rendered scikit-learn.org. See: https://github.com/scikit-learn/scikit-learn/issues/21755 */display: inline-block !important;position: relative;}#sk-container-id-2 div.sk-text-repr-fallback {display: none;}</style><div id=\"sk-container-id-2\" class=\"sk-top-container\"><div class=\"sk-text-repr-fallback\"><pre>RandomForestClassifier(n_estimators=25)</pre><b>In a Jupyter environment, please rerun this cell to show the HTML representation or trust the notebook. <br />On GitHub, the HTML representation is unable to render, please try loading this page with nbviewer.org.</b></div><div class=\"sk-container\" hidden><div class=\"sk-item\"><div class=\"sk-estimator sk-toggleable\"><input class=\"sk-toggleable__control sk-hidden--visually\" id=\"sk-estimator-id-2\" type=\"checkbox\" checked><label for=\"sk-estimator-id-2\" class=\"sk-toggleable__label sk-toggleable__label-arrow\">RandomForestClassifier</label><div class=\"sk-toggleable__content\"><pre>RandomForestClassifier(n_estimators=25)</pre></div></div></div></div></div>"
      ],
      "text/plain": [
       "RandomForestClassifier(n_estimators=25)"
      ]
     },
     "execution_count": 47,
     "metadata": {},
     "output_type": "execute_result"
    }
   ],
   "source": [
    "rfc = RandomForestClassifier(n_estimators=25)\n",
    "rfc.fit(X_train,y_train)"
   ]
  },
  {
   "cell_type": "code",
   "execution_count": 49,
   "id": "bd558e0a",
   "metadata": {},
   "outputs": [],
   "source": [
    "rfc_pred = rfc.predict(X_test)"
   ]
  },
  {
   "cell_type": "code",
   "execution_count": 50,
   "id": "e591daa0",
   "metadata": {},
   "outputs": [
    {
     "name": "stdout",
     "output_type": "stream",
     "text": [
      "[[18  1]\n",
      " [ 6  2]]\n",
      "              precision    recall  f1-score   support\n",
      "\n",
      "      absent       0.75      0.95      0.84        19\n",
      "     present       0.67      0.25      0.36         8\n",
      "\n",
      "    accuracy                           0.74        27\n",
      "   macro avg       0.71      0.60      0.60        27\n",
      "weighted avg       0.73      0.74      0.70        27\n",
      "\n"
     ]
    }
   ],
   "source": [
    "print(confusion_matrix(y_test,rfc_pred))\n",
    "print(classification_report(y_test,rfc_pred))"
   ]
  },
  {
   "cell_type": "code",
   "execution_count": 51,
   "id": "7667b8b8",
   "metadata": {},
   "outputs": [],
   "source": [
    "from IPython.display import Image"
   ]
  },
  {
   "cell_type": "code",
   "execution_count": 52,
   "id": "4b0f98d7",
   "metadata": {},
   "outputs": [],
   "source": [
    "from sklearn.tree import export_graphviz"
   ]
  },
  {
   "cell_type": "code",
   "execution_count": 53,
   "id": "b05fa330",
   "metadata": {},
   "outputs": [
    {
     "ename": "ModuleNotFoundError",
     "evalue": "No module named 'pyplot'",
     "output_type": "error",
     "traceback": [
      "\u001b[1;31m---------------------------------------------------------------------------\u001b[0m",
      "\u001b[1;31mModuleNotFoundError\u001b[0m                       Traceback (most recent call last)",
      "Cell \u001b[1;32mIn[53], line 1\u001b[0m\n\u001b[1;32m----> 1\u001b[0m \u001b[38;5;28;01mimport\u001b[39;00m \u001b[38;5;21;01mpyplot\u001b[39;00m\n",
      "\u001b[1;31mModuleNotFoundError\u001b[0m: No module named 'pyplot'"
     ]
    }
   ],
   "source": [
    "import pyplot"
   ]
  },
  {
   "cell_type": "code",
   "execution_count": 55,
   "id": "a673e0dd",
   "metadata": {},
   "outputs": [
    {
     "name": "stdout",
     "output_type": "stream",
     "text": [
      "Note: you may need to restart the kernel to use updated packages.\n"
     ]
    },
    {
     "name": "stderr",
     "output_type": "stream",
     "text": [
      "ERROR: Could not find a version that satisfies the requirement pyplot (from versions: none)\n",
      "ERROR: No matching distribution found for pyplot\n"
     ]
    }
   ],
   "source": [
    "pip install pyplot"
   ]
  },
  {
   "cell_type": "code",
   "execution_count": 56,
   "id": "235015c9",
   "metadata": {},
   "outputs": [
    {
     "ename": "ModuleNotFoundError",
     "evalue": "No module named 'sklearn.externals.six'",
     "output_type": "error",
     "traceback": [
      "\u001b[1;31m---------------------------------------------------------------------------\u001b[0m",
      "\u001b[1;31mModuleNotFoundError\u001b[0m                       Traceback (most recent call last)",
      "Cell \u001b[1;32mIn[56], line 1\u001b[0m\n\u001b[1;32m----> 1\u001b[0m \u001b[38;5;28;01mfrom\u001b[39;00m \u001b[38;5;21;01msklearn\u001b[39;00m\u001b[38;5;21;01m.\u001b[39;00m\u001b[38;5;21;01mexternals\u001b[39;00m\u001b[38;5;21;01m.\u001b[39;00m\u001b[38;5;21;01msix\u001b[39;00m \u001b[38;5;28;01mimport\u001b[39;00m StringIO\n",
      "\u001b[1;31mModuleNotFoundError\u001b[0m: No module named 'sklearn.externals.six'"
     ]
    }
   ],
   "source": [
    "from sklearn.externals.six import StringIO"
   ]
  },
  {
   "cell_type": "code",
   "execution_count": 57,
   "id": "c1ca9270",
   "metadata": {},
   "outputs": [
    {
     "name": "stdout",
     "output_type": "stream",
     "text": [
      "Collecting scikit-learn==0.20.3\n",
      "  Downloading scikit-learn-0.20.3.tar.gz (11.8 MB)\n",
      "     ---------------------------------------- 0.0/11.8 MB ? eta -:--:--\n",
      "     ---------------------------------------- 0.0/11.8 MB ? eta -:--:--\n",
      "     --------------------------------------- 0.1/11.8 MB 787.7 kB/s eta 0:00:15\n",
      "     - -------------------------------------- 0.3/11.8 MB 2.5 MB/s eta 0:00:05\n",
      "     - -------------------------------------- 0.5/11.8 MB 3.1 MB/s eta 0:00:04\n",
      "     -- ------------------------------------- 0.6/11.8 MB 3.3 MB/s eta 0:00:04\n",
      "     --- ------------------------------------ 1.0/11.8 MB 3.9 MB/s eta 0:00:03\n",
      "     --- ------------------------------------ 1.0/11.8 MB 3.9 MB/s eta 0:00:03\n",
      "     --- ------------------------------------ 1.0/11.8 MB 3.9 MB/s eta 0:00:03\n",
      "     --- ------------------------------------ 1.0/11.8 MB 3.9 MB/s eta 0:00:03\n",
      "     --- ------------------------------------ 1.2/11.8 MB 2.6 MB/s eta 0:00:05\n",
      "     ---- ----------------------------------- 1.4/11.8 MB 2.8 MB/s eta 0:00:04\n",
      "     ----- ---------------------------------- 1.7/11.8 MB 3.2 MB/s eta 0:00:04\n",
      "     ------ --------------------------------- 1.9/11.8 MB 3.3 MB/s eta 0:00:04\n",
      "     ------- -------------------------------- 2.3/11.8 MB 3.6 MB/s eta 0:00:03\n",
      "     -------- ------------------------------- 2.6/11.8 MB 3.7 MB/s eta 0:00:03\n",
      "     --------- ------------------------------ 2.8/11.8 MB 3.8 MB/s eta 0:00:03\n",
      "     ---------- ----------------------------- 3.1/11.8 MB 4.0 MB/s eta 0:00:03\n",
      "     ----------- ---------------------------- 3.4/11.8 MB 4.1 MB/s eta 0:00:03\n",
      "     ------------ --------------------------- 3.6/11.8 MB 4.2 MB/s eta 0:00:02\n",
      "     ------------- -------------------------- 3.9/11.8 MB 4.3 MB/s eta 0:00:02\n",
      "     -------------- ------------------------- 4.2/11.8 MB 4.4 MB/s eta 0:00:02\n",
      "     -------------- ------------------------- 4.2/11.8 MB 4.4 MB/s eta 0:00:02\n",
      "     -------------- ------------------------- 4.2/11.8 MB 4.4 MB/s eta 0:00:02\n",
      "     -------------- ------------------------- 4.2/11.8 MB 4.4 MB/s eta 0:00:02\n",
      "     -------------- ------------------------- 4.3/11.8 MB 3.8 MB/s eta 0:00:03\n",
      "     --------------- ------------------------ 4.6/11.8 MB 3.8 MB/s eta 0:00:02\n",
      "     --------------- ------------------------ 4.6/11.8 MB 3.8 MB/s eta 0:00:02\n",
      "     ---------------- ----------------------- 4.9/11.8 MB 3.8 MB/s eta 0:00:02\n",
      "     ----------------- ---------------------- 5.2/11.8 MB 3.9 MB/s eta 0:00:02\n",
      "     ----------------- ---------------------- 5.3/11.8 MB 3.8 MB/s eta 0:00:02\n",
      "     ------------------ --------------------- 5.6/11.8 MB 3.9 MB/s eta 0:00:02\n",
      "     ------------------- -------------------- 5.9/11.8 MB 4.0 MB/s eta 0:00:02\n",
      "     --------------------- ------------------ 6.2/11.8 MB 4.1 MB/s eta 0:00:02\n",
      "     --------------------- ------------------ 6.3/11.8 MB 4.1 MB/s eta 0:00:02\n",
      "     --------------------- ------------------ 6.3/11.8 MB 4.1 MB/s eta 0:00:02\n",
      "     --------------------- ------------------ 6.3/11.8 MB 3.8 MB/s eta 0:00:02\n",
      "     ---------------------- ----------------- 6.6/11.8 MB 3.9 MB/s eta 0:00:02\n",
      "     ----------------------- ---------------- 6.9/11.8 MB 3.9 MB/s eta 0:00:02\n",
      "     ------------------------ --------------- 7.1/11.8 MB 4.0 MB/s eta 0:00:02\n",
      "     ------------------------- -------------- 7.5/11.8 MB 4.0 MB/s eta 0:00:02\n",
      "     -------------------------- ------------- 7.8/11.8 MB 4.1 MB/s eta 0:00:01\n",
      "     -------------------------- ------------- 7.9/11.8 MB 4.1 MB/s eta 0:00:01\n",
      "     ---------------------------- ----------- 8.4/11.8 MB 4.2 MB/s eta 0:00:01\n",
      "     ----------------------------- ---------- 8.6/11.8 MB 4.3 MB/s eta 0:00:01\n",
      "     ----------------------------- ---------- 8.9/11.8 MB 4.3 MB/s eta 0:00:01\n",
      "     ------------------------------ --------- 9.1/11.8 MB 4.3 MB/s eta 0:00:01\n",
      "     ------------------------------- -------- 9.3/11.8 MB 4.3 MB/s eta 0:00:01\n",
      "     -------------------------------- ------- 9.6/11.8 MB 4.3 MB/s eta 0:00:01\n",
      "     --------------------------------- ------ 9.9/11.8 MB 4.4 MB/s eta 0:00:01\n",
      "     ---------------------------------- ----- 10.2/11.8 MB 4.4 MB/s eta 0:00:01\n",
      "     ----------------------------------- ---- 10.4/11.8 MB 4.6 MB/s eta 0:00:01\n",
      "     ----------------------------------- ---- 10.5/11.8 MB 4.5 MB/s eta 0:00:01\n",
      "     ----------------------------------- ---- 10.6/11.8 MB 4.5 MB/s eta 0:00:01\n",
      "     ------------------------------------ --- 10.8/11.8 MB 4.5 MB/s eta 0:00:01\n",
      "     ------------------------------------- -- 11.1/11.8 MB 4.5 MB/s eta 0:00:01\n",
      "     -------------------------------------- - 11.3/11.8 MB 4.8 MB/s eta 0:00:01\n",
      "     ---------------------------------------  11.7/11.8 MB 4.8 MB/s eta 0:00:01\n",
      "     ---------------------------------------  11.8/11.8 MB 4.8 MB/s eta 0:00:01\n",
      "     ---------------------------------------  11.8/11.8 MB 4.8 MB/s eta 0:00:01\n",
      "     ---------------------------------------- 11.8/11.8 MB 4.6 MB/s eta 0:00:00\n",
      "  Preparing metadata (setup.py): started\n",
      "  Preparing metadata (setup.py): finished with status 'done'\n",
      "Requirement already satisfied: numpy>=1.8.2 in c:\\users\\raghuadmin\\anaconda3\\lib\\site-packages (from scikit-learn==0.20.3) (1.24.3)\n",
      "Requirement already satisfied: scipy>=0.13.3 in c:\\users\\raghuadmin\\anaconda3\\lib\\site-packages (from scikit-learn==0.20.3) (1.11.1)\n",
      "Building wheels for collected packages: scikit-learn\n",
      "  Building wheel for scikit-learn (setup.py): started\n",
      "  Building wheel for scikit-learn (setup.py): finished with status 'error'\n",
      "  Running setup.py clean for scikit-learn\n",
      "Failed to build scikit-learn\n"
     ]
    },
    {
     "name": "stderr",
     "output_type": "stream",
     "text": [
      "  error: subprocess-exited-with-error\n",
      "  \n",
      "  python setup.py bdist_wheel did not run successfully.\n",
      "  exit code: 1\n",
      "  \n",
      "  [708 lines of output]\n",
      "  C:\\Users\\raghuadmin\\AppData\\Local\\Temp\\pip-install-nhqms7d5\\scikit-learn_e94eba4b77824ad69048146fa3e677e7\\setup.py:12: DeprecationWarning: pkg_resources is deprecated as an API. See https://setuptools.pypa.io/en/latest/pkg_resources.html\n",
      "    from pkg_resources import parse_version\n",
      "  Partial import of sklearn during the build process.\n",
      "  C:\\Users\\raghuadmin\\AppData\\Local\\Temp\\pip-install-nhqms7d5\\scikit-learn_e94eba4b77824ad69048146fa3e677e7\\setup.py:242: DeprecationWarning:\n",
      "  \n",
      "    `numpy.distutils` is deprecated since NumPy 1.23.0, as a result\n",
      "    of the deprecation of `distutils` itself. It will be removed for\n",
      "    Python >= 3.12. For older Python versions it will remain present.\n",
      "    It is recommended to use `setuptools < 60.0` for those Python versions.\n",
      "    For more details, see:\n",
      "      https://numpy.org/devdocs/reference/distutils_status_migration.html\n",
      "  \n",
      "  \n",
      "    from numpy.distutils.core import setup\n",
      "  INFO: blas_opt_info:\n",
      "  INFO: blas_armpl_info:\n",
      "  INFO: No module named 'numpy.distutils._msvccompiler' in numpy.distutils; trying from distutils\n",
      "  INFO: customize MSVCCompiler\n",
      "  INFO:   libraries armpl_lp64_mp not found in ['C:\\\\Users\\\\raghuadmin\\\\anaconda3\\\\lib', 'C:\\\\', 'C:\\\\Users\\\\raghuadmin\\\\anaconda3\\\\libs']\n",
      "  INFO:   NOT AVAILABLE\n",
      "  INFO:\n",
      "  INFO: blas_mkl_info:\n",
      "  INFO:   libraries mkl_rt not found in ['C:/Users/raghuadmin/anaconda3\\\\Library\\\\lib']\n",
      "  INFO:   NOT AVAILABLE\n",
      "  INFO:\n",
      "  INFO: blis_info:\n",
      "  INFO:   libraries blis not found in ['C:\\\\Users\\\\raghuadmin\\\\anaconda3\\\\lib', 'C:\\\\', 'C:\\\\Users\\\\raghuadmin\\\\anaconda3\\\\libs']\n",
      "  INFO:   NOT AVAILABLE\n",
      "  INFO:\n",
      "  INFO: openblas_info:\n",
      "  INFO:   libraries openblas not found in ['C:\\\\Users\\\\raghuadmin\\\\anaconda3\\\\lib', 'C:\\\\', 'C:\\\\Users\\\\raghuadmin\\\\anaconda3\\\\libs']\n",
      "  INFO: get_default_fcompiler: matching types: '['gnu', 'intelv', 'absoft', 'compaqv', 'intelev', 'gnu95', 'g95', 'intelvem', 'intelem', 'flang']'\n",
      "  INFO: customize GnuFCompiler\n",
      "  WARN: Could not locate executable g77\n",
      "  WARN: Could not locate executable f77\n",
      "  INFO: customize IntelVisualFCompiler\n",
      "  WARN: Could not locate executable ifort\n",
      "  WARN: Could not locate executable ifl\n",
      "  INFO: customize AbsoftFCompiler\n",
      "  WARN: Could not locate executable f90\n",
      "  INFO: customize CompaqVisualFCompiler\n",
      "  WARN: Could not locate executable DF\n",
      "  INFO: customize IntelItaniumVisualFCompiler\n",
      "  WARN: Could not locate executable efl\n",
      "  INFO: customize Gnu95FCompiler\n",
      "  WARN: Could not locate executable gfortran\n",
      "  WARN: Could not locate executable f95\n",
      "  INFO: customize G95FCompiler\n",
      "  WARN: Could not locate executable g95\n",
      "  INFO: customize IntelEM64VisualFCompiler\n",
      "  INFO: customize IntelEM64TFCompiler\n",
      "  WARN: Could not locate executable efort\n",
      "  WARN: Could not locate executable efc\n",
      "  INFO: customize PGroupFlangCompiler\n",
      "  WARN: Could not locate executable flang\n",
      "  WARN: don't know how to compile Fortran code on platform 'nt'\n",
      "  INFO:   NOT AVAILABLE\n",
      "  INFO:\n",
      "  INFO: accelerate_info:\n",
      "  INFO:   NOT AVAILABLE\n",
      "  INFO:\n",
      "  INFO: atlas_3_10_blas_threads_info:\n",
      "  INFO: Setting PTATLAS=ATLAS\n",
      "  INFO:   libraries tatlas not found in ['C:\\\\Users\\\\raghuadmin\\\\anaconda3\\\\lib', 'C:\\\\', 'C:\\\\Users\\\\raghuadmin\\\\anaconda3\\\\libs']\n",
      "  INFO:   NOT AVAILABLE\n",
      "  INFO:\n",
      "  INFO: atlas_3_10_blas_info:\n",
      "  INFO:   libraries satlas not found in ['C:\\\\Users\\\\raghuadmin\\\\anaconda3\\\\lib', 'C:\\\\', 'C:\\\\Users\\\\raghuadmin\\\\anaconda3\\\\libs']\n",
      "  INFO:   NOT AVAILABLE\n",
      "  INFO:\n",
      "  INFO: atlas_blas_threads_info:\n",
      "  INFO: Setting PTATLAS=ATLAS\n",
      "  INFO:   libraries ptf77blas,ptcblas,atlas not found in ['C:\\\\Users\\\\raghuadmin\\\\anaconda3\\\\lib', 'C:\\\\', 'C:\\\\Users\\\\raghuadmin\\\\anaconda3\\\\libs']\n",
      "  INFO:   NOT AVAILABLE\n",
      "  INFO:\n",
      "  INFO: atlas_blas_info:\n",
      "  INFO:   libraries f77blas,cblas,atlas not found in ['C:\\\\Users\\\\raghuadmin\\\\anaconda3\\\\lib', 'C:\\\\', 'C:\\\\Users\\\\raghuadmin\\\\anaconda3\\\\libs']\n",
      "  INFO:   NOT AVAILABLE\n",
      "  INFO:\n",
      "  C:\\Users\\raghuadmin\\anaconda3\\Lib\\site-packages\\numpy\\distutils\\system_info.py:2077: UserWarning:\n",
      "      Optimized (vendor) Blas libraries are not found.\n",
      "      Falls back to netlib Blas library which has worse performance.\n",
      "      A better performance should be easily gained by switching\n",
      "      Blas library.\n",
      "    if self._calc_info(blas):\n",
      "  INFO: blas_info:\n",
      "  INFO:   libraries blas not found in ['C:\\\\Users\\\\raghuadmin\\\\anaconda3\\\\lib', 'C:\\\\', 'C:\\\\Users\\\\raghuadmin\\\\anaconda3\\\\libs']\n",
      "  INFO:   NOT AVAILABLE\n",
      "  INFO:\n",
      "  C:\\Users\\raghuadmin\\anaconda3\\Lib\\site-packages\\numpy\\distutils\\system_info.py:2077: UserWarning:\n",
      "      Blas (http://www.netlib.org/blas/) libraries not found.\n",
      "      Directories to search for the libraries can be specified in the\n",
      "      numpy/distutils/site.cfg file (section [blas]) or by setting\n",
      "      the BLAS environment variable.\n",
      "    if self._calc_info(blas):\n",
      "  INFO: blas_src_info:\n",
      "  INFO:   NOT AVAILABLE\n",
      "  INFO:\n",
      "  C:\\Users\\raghuadmin\\anaconda3\\Lib\\site-packages\\numpy\\distutils\\system_info.py:2077: UserWarning:\n",
      "      Blas (http://www.netlib.org/blas/) sources not found.\n",
      "      Directories to search for the sources can be specified in the\n",
      "      numpy/distutils/site.cfg file (section [blas_src]) or by setting\n",
      "      the BLAS_SRC environment variable.\n",
      "    if self._calc_info(blas):\n",
      "  INFO:   NOT AVAILABLE\n",
      "  INFO:\n",
      "  C:\\Users\\raghuadmin\\AppData\\Local\\Temp\\pip-install-nhqms7d5\\scikit-learn_e94eba4b77824ad69048146fa3e677e7\\sklearn\\setup.py:73: UserWarning:\n",
      "      Blas (http://www.netlib.org/blas/) libraries not found.\n",
      "      Directories to search for the libraries can be specified in the\n",
      "      numpy/distutils/site.cfg file (section [blas]) or by setting\n",
      "      the BLAS environment variable.\n",
      "    warnings.warn(BlasNotFoundError.__doc__)\n",
      "  running bdist_wheel\n",
      "  running build\n",
      "  running config_cc\n",
      "  INFO: unifing config_cc, config, build_clib, build_ext, build commands --compiler options\n",
      "  running config_fc\n",
      "  INFO: unifing config_fc, config, build_clib, build_ext, build commands --fcompiler options\n",
      "  running build_src\n",
      "  INFO: build_src\n",
      "  INFO: building library \"libsvm-skl\" sources\n",
      "  INFO: building library \"cblas\" sources\n",
      "  INFO: building extension \"sklearn.__check_build._check_build\" sources\n",
      "  INFO: building extension \"sklearn.cluster._dbscan_inner\" sources\n",
      "  INFO: building extension \"sklearn.cluster._hierarchical\" sources\n",
      "  INFO: building extension \"sklearn.cluster._k_means_elkan\" sources\n",
      "  INFO: building extension \"sklearn.cluster._k_means\" sources\n",
      "  INFO: building extension \"sklearn.datasets._svmlight_format\" sources\n",
      "  INFO: building extension \"sklearn.decomposition._online_lda\" sources\n",
      "  INFO: building extension \"sklearn.decomposition.cdnmf_fast\" sources\n",
      "  INFO: building extension \"sklearn.ensemble._gradient_boosting\" sources\n",
      "  INFO: building extension \"sklearn.feature_extraction._hashing\" sources\n",
      "  INFO: building extension \"sklearn.manifold._utils\" sources\n",
      "  INFO: building extension \"sklearn.manifold._barnes_hut_tsne\" sources\n",
      "  INFO: building extension \"sklearn.metrics.cluster.expected_mutual_info_fast\" sources\n",
      "  INFO: building extension \"sklearn.metrics.pairwise_fast\" sources\n",
      "  INFO: building extension \"sklearn.neighbors.ball_tree\" sources\n",
      "  INFO: building extension \"sklearn.neighbors.kd_tree\" sources\n",
      "  INFO: building extension \"sklearn.neighbors.dist_metrics\" sources\n",
      "  INFO: building extension \"sklearn.neighbors.typedefs\" sources\n",
      "  INFO: building extension \"sklearn.neighbors.quad_tree\" sources\n",
      "  INFO: building extension \"sklearn.tree._tree\" sources\n",
      "  INFO: building extension \"sklearn.tree._splitter\" sources\n",
      "  INFO: building extension \"sklearn.tree._criterion\" sources\n",
      "  INFO: building extension \"sklearn.tree._utils\" sources\n",
      "  INFO: building extension \"sklearn.svm.libsvm\" sources\n",
      "  INFO: building extension \"sklearn.svm.liblinear\" sources\n",
      "  INFO: building extension \"sklearn.svm.libsvm_sparse\" sources\n",
      "  INFO: building extension \"sklearn._isotonic\" sources\n",
      "  INFO: building extension \"sklearn.linear_model.cd_fast\" sources\n",
      "  INFO: building extension \"sklearn.linear_model.sgd_fast\" sources\n",
      "  INFO: building extension \"sklearn.linear_model.sag_fast\" sources\n",
      "  INFO: building extension \"sklearn.utils.sparsefuncs_fast\" sources\n",
      "  INFO: building extension \"sklearn.utils.arrayfuncs\" sources\n",
      "  INFO: building extension \"sklearn.utils.murmurhash\" sources\n",
      "  INFO: building extension \"sklearn.utils.lgamma\" sources\n",
      "  INFO: building extension \"sklearn.utils.graph_shortest_path\" sources\n",
      "  INFO: building extension \"sklearn.utils.fast_dict\" sources\n",
      "  INFO: building extension \"sklearn.utils.seq_dataset\" sources\n",
      "  INFO: building extension \"sklearn.utils.weight_vector\" sources\n",
      "  INFO: building extension \"sklearn.utils._random\" sources\n",
      "  INFO: building extension \"sklearn.utils._logistic_sigmoid\" sources\n",
      "  INFO: building data_files sources\n",
      "  INFO: build_src: building npy-pkg config files\n",
      "  C:\\Users\\raghuadmin\\anaconda3\\Lib\\site-packages\\setuptools\\_distutils\\cmd.py:66: SetuptoolsDeprecationWarning: setup.py install is deprecated.\n",
      "  !!\n",
      "  \n",
      "          ********************************************************************************\n",
      "          Please avoid running ``setup.py`` directly.\n",
      "          Instead, use pypa/build, pypa/installer or other\n",
      "          standards-based tools.\n",
      "  \n",
      "          See https://blog.ganssle.io/articles/2021/10/setup-py-deprecated.html for details.\n",
      "          ********************************************************************************\n",
      "  \n",
      "  !!\n",
      "    self.initialize_options()\n",
      "  running build_py\n",
      "  creating build\n",
      "  creating build\\lib.win-amd64-cpython-311\n",
      "  creating build\\lib.win-amd64-cpython-311\\sklearn\n",
      "  copying sklearn\\base.py -> build\\lib.win-amd64-cpython-311\\sklearn\n",
      "  copying sklearn\\calibration.py -> build\\lib.win-amd64-cpython-311\\sklearn\n",
      "  copying sklearn\\discriminant_analysis.py -> build\\lib.win-amd64-cpython-311\\sklearn\n",
      "  copying sklearn\\dummy.py -> build\\lib.win-amd64-cpython-311\\sklearn\n",
      "  copying sklearn\\exceptions.py -> build\\lib.win-amd64-cpython-311\\sklearn\n",
      "  copying sklearn\\impute.py -> build\\lib.win-amd64-cpython-311\\sklearn\n",
      "  copying sklearn\\isotonic.py -> build\\lib.win-amd64-cpython-311\\sklearn\n",
      "  copying sklearn\\kernel_approximation.py -> build\\lib.win-amd64-cpython-311\\sklearn\n",
      "  copying sklearn\\kernel_ridge.py -> build\\lib.win-amd64-cpython-311\\sklearn\n",
      "  copying sklearn\\multiclass.py -> build\\lib.win-amd64-cpython-311\\sklearn\n",
      "  copying sklearn\\multioutput.py -> build\\lib.win-amd64-cpython-311\\sklearn\n",
      "  copying sklearn\\naive_bayes.py -> build\\lib.win-amd64-cpython-311\\sklearn\n",
      "  copying sklearn\\pipeline.py -> build\\lib.win-amd64-cpython-311\\sklearn\n",
      "  copying sklearn\\random_projection.py -> build\\lib.win-amd64-cpython-311\\sklearn\n",
      "  copying sklearn\\setup.py -> build\\lib.win-amd64-cpython-311\\sklearn\n",
      "  copying sklearn\\_config.py -> build\\lib.win-amd64-cpython-311\\sklearn\n",
      "  copying sklearn\\__init__.py -> build\\lib.win-amd64-cpython-311\\sklearn\n",
      "  creating build\\lib.win-amd64-cpython-311\\sklearn\\__check_build\n",
      "  copying sklearn\\__check_build\\setup.py -> build\\lib.win-amd64-cpython-311\\sklearn\\__check_build\n",
      "  copying sklearn\\__check_build\\__init__.py -> build\\lib.win-amd64-cpython-311\\sklearn\\__check_build\n",
      "  creating build\\lib.win-amd64-cpython-311\\sklearn\\_build_utils\n",
      "  copying sklearn\\_build_utils\\__init__.py -> build\\lib.win-amd64-cpython-311\\sklearn\\_build_utils\n",
      "  creating build\\lib.win-amd64-cpython-311\\sklearn\\compose\n",
      "  copying sklearn\\compose\\_column_transformer.py -> build\\lib.win-amd64-cpython-311\\sklearn\\compose\n",
      "  copying sklearn\\compose\\_target.py -> build\\lib.win-amd64-cpython-311\\sklearn\\compose\n",
      "  copying sklearn\\compose\\__init__.py -> build\\lib.win-amd64-cpython-311\\sklearn\\compose\n",
      "  creating build\\lib.win-amd64-cpython-311\\sklearn\\compose\\tests\n",
      "  copying sklearn\\compose\\tests\\test_column_transformer.py -> build\\lib.win-amd64-cpython-311\\sklearn\\compose/tests\n",
      "  copying sklearn\\compose\\tests\\test_target.py -> build\\lib.win-amd64-cpython-311\\sklearn\\compose/tests\n",
      "  copying sklearn\\compose\\tests\\__init__.py -> build\\lib.win-amd64-cpython-311\\sklearn\\compose/tests\n",
      "  creating build\\lib.win-amd64-cpython-311\\sklearn\\covariance\n",
      "  copying sklearn\\covariance\\elliptic_envelope.py -> build\\lib.win-amd64-cpython-311\\sklearn\\covariance\n",
      "  copying sklearn\\covariance\\empirical_covariance_.py -> build\\lib.win-amd64-cpython-311\\sklearn\\covariance\n",
      "  copying sklearn\\covariance\\graph_lasso_.py -> build\\lib.win-amd64-cpython-311\\sklearn\\covariance\n",
      "  copying sklearn\\covariance\\robust_covariance.py -> build\\lib.win-amd64-cpython-311\\sklearn\\covariance\n",
      "  copying sklearn\\covariance\\shrunk_covariance_.py -> build\\lib.win-amd64-cpython-311\\sklearn\\covariance\n",
      "  copying sklearn\\covariance\\__init__.py -> build\\lib.win-amd64-cpython-311\\sklearn\\covariance\n",
      "  creating build\\lib.win-amd64-cpython-311\\sklearn\\covariance\\tests\n",
      "  copying sklearn\\covariance\\tests\\test_covariance.py -> build\\lib.win-amd64-cpython-311\\sklearn\\covariance/tests\n",
      "  copying sklearn\\covariance\\tests\\test_elliptic_envelope.py -> build\\lib.win-amd64-cpython-311\\sklearn\\covariance/tests\n",
      "  copying sklearn\\covariance\\tests\\test_graphical_lasso.py -> build\\lib.win-amd64-cpython-311\\sklearn\\covariance/tests\n",
      "  copying sklearn\\covariance\\tests\\test_graph_lasso.py -> build\\lib.win-amd64-cpython-311\\sklearn\\covariance/tests\n",
      "  copying sklearn\\covariance\\tests\\test_robust_covariance.py -> build\\lib.win-amd64-cpython-311\\sklearn\\covariance/tests\n",
      "  copying sklearn\\covariance\\tests\\__init__.py -> build\\lib.win-amd64-cpython-311\\sklearn\\covariance/tests\n",
      "  creating build\\lib.win-amd64-cpython-311\\sklearn\\cross_decomposition\n",
      "  copying sklearn\\cross_decomposition\\cca_.py -> build\\lib.win-amd64-cpython-311\\sklearn\\cross_decomposition\n",
      "  copying sklearn\\cross_decomposition\\pls_.py -> build\\lib.win-amd64-cpython-311\\sklearn\\cross_decomposition\n",
      "  copying sklearn\\cross_decomposition\\__init__.py -> build\\lib.win-amd64-cpython-311\\sklearn\\cross_decomposition\n",
      "  creating build\\lib.win-amd64-cpython-311\\sklearn\\cross_decomposition\\tests\n",
      "  copying sklearn\\cross_decomposition\\tests\\test_pls.py -> build\\lib.win-amd64-cpython-311\\sklearn\\cross_decomposition/tests\n",
      "  copying sklearn\\cross_decomposition\\tests\\__init__.py -> build\\lib.win-amd64-cpython-311\\sklearn\\cross_decomposition/tests\n",
      "  creating build\\lib.win-amd64-cpython-311\\sklearn\\feature_selection\n",
      "  copying sklearn\\feature_selection\\base.py -> build\\lib.win-amd64-cpython-311\\sklearn\\feature_selection\n",
      "  copying sklearn\\feature_selection\\from_model.py -> build\\lib.win-amd64-cpython-311\\sklearn\\feature_selection\n",
      "  copying sklearn\\feature_selection\\mutual_info_.py -> build\\lib.win-amd64-cpython-311\\sklearn\\feature_selection\n",
      "  copying sklearn\\feature_selection\\rfe.py -> build\\lib.win-amd64-cpython-311\\sklearn\\feature_selection\n",
      "  copying sklearn\\feature_selection\\univariate_selection.py -> build\\lib.win-amd64-cpython-311\\sklearn\\feature_selection\n",
      "  copying sklearn\\feature_selection\\variance_threshold.py -> build\\lib.win-amd64-cpython-311\\sklearn\\feature_selection\n",
      "  copying sklearn\\feature_selection\\__init__.py -> build\\lib.win-amd64-cpython-311\\sklearn\\feature_selection\n",
      "  creating build\\lib.win-amd64-cpython-311\\sklearn\\feature_selection\\tests\n",
      "  copying sklearn\\feature_selection\\tests\\test_base.py -> build\\lib.win-amd64-cpython-311\\sklearn\\feature_selection/tests\n",
      "  copying sklearn\\feature_selection\\tests\\test_chi2.py -> build\\lib.win-amd64-cpython-311\\sklearn\\feature_selection/tests\n",
      "  copying sklearn\\feature_selection\\tests\\test_feature_select.py -> build\\lib.win-amd64-cpython-311\\sklearn\\feature_selection/tests\n",
      "  copying sklearn\\feature_selection\\tests\\test_from_model.py -> build\\lib.win-amd64-cpython-311\\sklearn\\feature_selection/tests\n",
      "  copying sklearn\\feature_selection\\tests\\test_mutual_info.py -> build\\lib.win-amd64-cpython-311\\sklearn\\feature_selection/tests\n",
      "  copying sklearn\\feature_selection\\tests\\test_rfe.py -> build\\lib.win-amd64-cpython-311\\sklearn\\feature_selection/tests\n",
      "  copying sklearn\\feature_selection\\tests\\test_variance_threshold.py -> build\\lib.win-amd64-cpython-311\\sklearn\\feature_selection/tests\n",
      "  copying sklearn\\feature_selection\\tests\\__init__.py -> build\\lib.win-amd64-cpython-311\\sklearn\\feature_selection/tests\n",
      "  creating build\\lib.win-amd64-cpython-311\\sklearn\\gaussian_process\n",
      "  copying sklearn\\gaussian_process\\correlation_models.py -> build\\lib.win-amd64-cpython-311\\sklearn\\gaussian_process\n",
      "  copying sklearn\\gaussian_process\\gpc.py -> build\\lib.win-amd64-cpython-311\\sklearn\\gaussian_process\n",
      "  copying sklearn\\gaussian_process\\gpr.py -> build\\lib.win-amd64-cpython-311\\sklearn\\gaussian_process\n",
      "  copying sklearn\\gaussian_process\\kernels.py -> build\\lib.win-amd64-cpython-311\\sklearn\\gaussian_process\n",
      "  copying sklearn\\gaussian_process\\regression_models.py -> build\\lib.win-amd64-cpython-311\\sklearn\\gaussian_process\n",
      "  copying sklearn\\gaussian_process\\__init__.py -> build\\lib.win-amd64-cpython-311\\sklearn\\gaussian_process\n",
      "  creating build\\lib.win-amd64-cpython-311\\sklearn\\gaussian_process\\tests\n",
      "  copying sklearn\\gaussian_process\\tests\\test_gpc.py -> build\\lib.win-amd64-cpython-311\\sklearn\\gaussian_process/tests\n",
      "  copying sklearn\\gaussian_process\\tests\\test_gpr.py -> build\\lib.win-amd64-cpython-311\\sklearn\\gaussian_process/tests\n",
      "  copying sklearn\\gaussian_process\\tests\\test_kernels.py -> build\\lib.win-amd64-cpython-311\\sklearn\\gaussian_process/tests\n",
      "  copying sklearn\\gaussian_process\\tests\\__init__.py -> build\\lib.win-amd64-cpython-311\\sklearn\\gaussian_process/tests\n",
      "  creating build\\lib.win-amd64-cpython-311\\sklearn\\mixture\n",
      "  copying sklearn\\mixture\\base.py -> build\\lib.win-amd64-cpython-311\\sklearn\\mixture\n",
      "  copying sklearn\\mixture\\bayesian_mixture.py -> build\\lib.win-amd64-cpython-311\\sklearn\\mixture\n",
      "  copying sklearn\\mixture\\gaussian_mixture.py -> build\\lib.win-amd64-cpython-311\\sklearn\\mixture\n",
      "  copying sklearn\\mixture\\__init__.py -> build\\lib.win-amd64-cpython-311\\sklearn\\mixture\n",
      "  creating build\\lib.win-amd64-cpython-311\\sklearn\\mixture\\tests\n",
      "  copying sklearn\\mixture\\tests\\test_bayesian_mixture.py -> build\\lib.win-amd64-cpython-311\\sklearn\\mixture/tests\n",
      "  copying sklearn\\mixture\\tests\\test_gaussian_mixture.py -> build\\lib.win-amd64-cpython-311\\sklearn\\mixture/tests\n",
      "  copying sklearn\\mixture\\tests\\test_mixture.py -> build\\lib.win-amd64-cpython-311\\sklearn\\mixture/tests\n",
      "  copying sklearn\\mixture\\tests\\__init__.py -> build\\lib.win-amd64-cpython-311\\sklearn\\mixture/tests\n",
      "  creating build\\lib.win-amd64-cpython-311\\sklearn\\model_selection\n",
      "  copying sklearn\\model_selection\\_search.py -> build\\lib.win-amd64-cpython-311\\sklearn\\model_selection\n",
      "  copying sklearn\\model_selection\\_split.py -> build\\lib.win-amd64-cpython-311\\sklearn\\model_selection\n",
      "  copying sklearn\\model_selection\\_validation.py -> build\\lib.win-amd64-cpython-311\\sklearn\\model_selection\n",
      "  copying sklearn\\model_selection\\__init__.py -> build\\lib.win-amd64-cpython-311\\sklearn\\model_selection\n",
      "  creating build\\lib.win-amd64-cpython-311\\sklearn\\model_selection\\tests\n",
      "  copying sklearn\\model_selection\\tests\\common.py -> build\\lib.win-amd64-cpython-311\\sklearn\\model_selection/tests\n",
      "  copying sklearn\\model_selection\\tests\\test_search.py -> build\\lib.win-amd64-cpython-311\\sklearn\\model_selection/tests\n",
      "  copying sklearn\\model_selection\\tests\\test_split.py -> build\\lib.win-amd64-cpython-311\\sklearn\\model_selection/tests\n",
      "  copying sklearn\\model_selection\\tests\\test_validation.py -> build\\lib.win-amd64-cpython-311\\sklearn\\model_selection/tests\n",
      "  copying sklearn\\model_selection\\tests\\__init__.py -> build\\lib.win-amd64-cpython-311\\sklearn\\model_selection/tests\n",
      "  creating build\\lib.win-amd64-cpython-311\\sklearn\\neural_network\n",
      "  copying sklearn\\neural_network\\multilayer_perceptron.py -> build\\lib.win-amd64-cpython-311\\sklearn\\neural_network\n",
      "  copying sklearn\\neural_network\\rbm.py -> build\\lib.win-amd64-cpython-311\\sklearn\\neural_network\n",
      "  copying sklearn\\neural_network\\_base.py -> build\\lib.win-amd64-cpython-311\\sklearn\\neural_network\n",
      "  copying sklearn\\neural_network\\_stochastic_optimizers.py -> build\\lib.win-amd64-cpython-311\\sklearn\\neural_network\n",
      "  copying sklearn\\neural_network\\__init__.py -> build\\lib.win-amd64-cpython-311\\sklearn\\neural_network\n",
      "  creating build\\lib.win-amd64-cpython-311\\sklearn\\neural_network\\tests\n",
      "  copying sklearn\\neural_network\\tests\\test_mlp.py -> build\\lib.win-amd64-cpython-311\\sklearn\\neural_network/tests\n",
      "  copying sklearn\\neural_network\\tests\\test_rbm.py -> build\\lib.win-amd64-cpython-311\\sklearn\\neural_network/tests\n",
      "  copying sklearn\\neural_network\\tests\\test_stochastic_optimizers.py -> build\\lib.win-amd64-cpython-311\\sklearn\\neural_network/tests\n",
      "  copying sklearn\\neural_network\\tests\\__init__.py -> build\\lib.win-amd64-cpython-311\\sklearn\\neural_network/tests\n",
      "  creating build\\lib.win-amd64-cpython-311\\sklearn\\preprocessing\n",
      "  copying sklearn\\preprocessing\\base.py -> build\\lib.win-amd64-cpython-311\\sklearn\\preprocessing\n",
      "  copying sklearn\\preprocessing\\data.py -> build\\lib.win-amd64-cpython-311\\sklearn\\preprocessing\n",
      "  copying sklearn\\preprocessing\\imputation.py -> build\\lib.win-amd64-cpython-311\\sklearn\\preprocessing\n",
      "  copying sklearn\\preprocessing\\label.py -> build\\lib.win-amd64-cpython-311\\sklearn\\preprocessing\n",
      "  copying sklearn\\preprocessing\\_discretization.py -> build\\lib.win-amd64-cpython-311\\sklearn\\preprocessing\n",
      "  copying sklearn\\preprocessing\\_encoders.py -> build\\lib.win-amd64-cpython-311\\sklearn\\preprocessing\n",
      "  copying sklearn\\preprocessing\\_function_transformer.py -> build\\lib.win-amd64-cpython-311\\sklearn\\preprocessing\n",
      "  copying sklearn\\preprocessing\\__init__.py -> build\\lib.win-amd64-cpython-311\\sklearn\\preprocessing\n",
      "  creating build\\lib.win-amd64-cpython-311\\sklearn\\preprocessing\\tests\n",
      "  copying sklearn\\preprocessing\\tests\\test_base.py -> build\\lib.win-amd64-cpython-311\\sklearn\\preprocessing/tests\n",
      "  copying sklearn\\preprocessing\\tests\\test_common.py -> build\\lib.win-amd64-cpython-311\\sklearn\\preprocessing/tests\n",
      "  copying sklearn\\preprocessing\\tests\\test_data.py -> build\\lib.win-amd64-cpython-311\\sklearn\\preprocessing/tests\n",
      "  copying sklearn\\preprocessing\\tests\\test_discretization.py -> build\\lib.win-amd64-cpython-311\\sklearn\\preprocessing/tests\n",
      "  copying sklearn\\preprocessing\\tests\\test_encoders.py -> build\\lib.win-amd64-cpython-311\\sklearn\\preprocessing/tests\n",
      "  copying sklearn\\preprocessing\\tests\\test_function_transformer.py -> build\\lib.win-amd64-cpython-311\\sklearn\\preprocessing/tests\n",
      "  copying sklearn\\preprocessing\\tests\\test_imputation.py -> build\\lib.win-amd64-cpython-311\\sklearn\\preprocessing/tests\n",
      "  copying sklearn\\preprocessing\\tests\\test_label.py -> build\\lib.win-amd64-cpython-311\\sklearn\\preprocessing/tests\n",
      "  copying sklearn\\preprocessing\\tests\\__init__.py -> build\\lib.win-amd64-cpython-311\\sklearn\\preprocessing/tests\n",
      "  creating build\\lib.win-amd64-cpython-311\\sklearn\\semi_supervised\n",
      "  copying sklearn\\semi_supervised\\label_propagation.py -> build\\lib.win-amd64-cpython-311\\sklearn\\semi_supervised\n",
      "  copying sklearn\\semi_supervised\\__init__.py -> build\\lib.win-amd64-cpython-311\\sklearn\\semi_supervised\n",
      "  creating build\\lib.win-amd64-cpython-311\\sklearn\\semi_supervised\\tests\n",
      "  copying sklearn\\semi_supervised\\tests\\test_label_propagation.py -> build\\lib.win-amd64-cpython-311\\sklearn\\semi_supervised/tests\n",
      "  copying sklearn\\semi_supervised\\tests\\__init__.py -> build\\lib.win-amd64-cpython-311\\sklearn\\semi_supervised/tests\n",
      "  creating build\\lib.win-amd64-cpython-311\\sklearn\\cluster\n",
      "  copying sklearn\\cluster\\affinity_propagation_.py -> build\\lib.win-amd64-cpython-311\\sklearn\\cluster\n",
      "  copying sklearn\\cluster\\bicluster.py -> build\\lib.win-amd64-cpython-311\\sklearn\\cluster\n",
      "  copying sklearn\\cluster\\birch.py -> build\\lib.win-amd64-cpython-311\\sklearn\\cluster\n",
      "  copying sklearn\\cluster\\dbscan_.py -> build\\lib.win-amd64-cpython-311\\sklearn\\cluster\n",
      "  copying sklearn\\cluster\\hierarchical.py -> build\\lib.win-amd64-cpython-311\\sklearn\\cluster\n",
      "  copying sklearn\\cluster\\k_means_.py -> build\\lib.win-amd64-cpython-311\\sklearn\\cluster\n",
      "  copying sklearn\\cluster\\mean_shift_.py -> build\\lib.win-amd64-cpython-311\\sklearn\\cluster\n",
      "  copying sklearn\\cluster\\setup.py -> build\\lib.win-amd64-cpython-311\\sklearn\\cluster\n",
      "  copying sklearn\\cluster\\spectral.py -> build\\lib.win-amd64-cpython-311\\sklearn\\cluster\n",
      "  copying sklearn\\cluster\\_feature_agglomeration.py -> build\\lib.win-amd64-cpython-311\\sklearn\\cluster\n",
      "  copying sklearn\\cluster\\__init__.py -> build\\lib.win-amd64-cpython-311\\sklearn\\cluster\n",
      "  creating build\\lib.win-amd64-cpython-311\\sklearn\\cluster\\tests\n",
      "  copying sklearn\\cluster\\tests\\common.py -> build\\lib.win-amd64-cpython-311\\sklearn\\cluster\\tests\n",
      "  copying sklearn\\cluster\\tests\\test_affinity_propagation.py -> build\\lib.win-amd64-cpython-311\\sklearn\\cluster\\tests\n",
      "  copying sklearn\\cluster\\tests\\test_bicluster.py -> build\\lib.win-amd64-cpython-311\\sklearn\\cluster\\tests\n",
      "  copying sklearn\\cluster\\tests\\test_birch.py -> build\\lib.win-amd64-cpython-311\\sklearn\\cluster\\tests\n",
      "  copying sklearn\\cluster\\tests\\test_dbscan.py -> build\\lib.win-amd64-cpython-311\\sklearn\\cluster\\tests\n",
      "  copying sklearn\\cluster\\tests\\test_feature_agglomeration.py -> build\\lib.win-amd64-cpython-311\\sklearn\\cluster\\tests\n",
      "  copying sklearn\\cluster\\tests\\test_hierarchical.py -> build\\lib.win-amd64-cpython-311\\sklearn\\cluster\\tests\n",
      "  copying sklearn\\cluster\\tests\\test_k_means.py -> build\\lib.win-amd64-cpython-311\\sklearn\\cluster\\tests\n",
      "  copying sklearn\\cluster\\tests\\test_mean_shift.py -> build\\lib.win-amd64-cpython-311\\sklearn\\cluster\\tests\n",
      "  copying sklearn\\cluster\\tests\\test_spectral.py -> build\\lib.win-amd64-cpython-311\\sklearn\\cluster\\tests\n",
      "  copying sklearn\\cluster\\tests\\__init__.py -> build\\lib.win-amd64-cpython-311\\sklearn\\cluster\\tests\n",
      "  creating build\\lib.win-amd64-cpython-311\\sklearn\\datasets\n",
      "  copying sklearn\\datasets\\base.py -> build\\lib.win-amd64-cpython-311\\sklearn\\datasets\n",
      "  copying sklearn\\datasets\\california_housing.py -> build\\lib.win-amd64-cpython-311\\sklearn\\datasets\n",
      "  copying sklearn\\datasets\\covtype.py -> build\\lib.win-amd64-cpython-311\\sklearn\\datasets\n",
      "  copying sklearn\\datasets\\kddcup99.py -> build\\lib.win-amd64-cpython-311\\sklearn\\datasets\n",
      "  copying sklearn\\datasets\\lfw.py -> build\\lib.win-amd64-cpython-311\\sklearn\\datasets\n",
      "  copying sklearn\\datasets\\mlcomp.py -> build\\lib.win-amd64-cpython-311\\sklearn\\datasets\n",
      "  copying sklearn\\datasets\\mldata.py -> build\\lib.win-amd64-cpython-311\\sklearn\\datasets\n",
      "  copying sklearn\\datasets\\olivetti_faces.py -> build\\lib.win-amd64-cpython-311\\sklearn\\datasets\n",
      "  copying sklearn\\datasets\\openml.py -> build\\lib.win-amd64-cpython-311\\sklearn\\datasets\n",
      "  copying sklearn\\datasets\\rcv1.py -> build\\lib.win-amd64-cpython-311\\sklearn\\datasets\n",
      "  copying sklearn\\datasets\\samples_generator.py -> build\\lib.win-amd64-cpython-311\\sklearn\\datasets\n",
      "  copying sklearn\\datasets\\setup.py -> build\\lib.win-amd64-cpython-311\\sklearn\\datasets\n",
      "  copying sklearn\\datasets\\species_distributions.py -> build\\lib.win-amd64-cpython-311\\sklearn\\datasets\n",
      "  copying sklearn\\datasets\\svmlight_format.py -> build\\lib.win-amd64-cpython-311\\sklearn\\datasets\n",
      "  copying sklearn\\datasets\\twenty_newsgroups.py -> build\\lib.win-amd64-cpython-311\\sklearn\\datasets\n",
      "  copying sklearn\\datasets\\__init__.py -> build\\lib.win-amd64-cpython-311\\sklearn\\datasets\n",
      "  creating build\\lib.win-amd64-cpython-311\\sklearn\\datasets\\tests\n",
      "  copying sklearn\\datasets\\tests\\test_20news.py -> build\\lib.win-amd64-cpython-311\\sklearn\\datasets\\tests\n",
      "  copying sklearn\\datasets\\tests\\test_base.py -> build\\lib.win-amd64-cpython-311\\sklearn\\datasets\\tests\n",
      "  copying sklearn\\datasets\\tests\\test_california_housing.py -> build\\lib.win-amd64-cpython-311\\sklearn\\datasets\\tests\n",
      "  copying sklearn\\datasets\\tests\\test_common.py -> build\\lib.win-amd64-cpython-311\\sklearn\\datasets\\tests\n",
      "  copying sklearn\\datasets\\tests\\test_covtype.py -> build\\lib.win-amd64-cpython-311\\sklearn\\datasets\\tests\n",
      "  copying sklearn\\datasets\\tests\\test_kddcup99.py -> build\\lib.win-amd64-cpython-311\\sklearn\\datasets\\tests\n",
      "  copying sklearn\\datasets\\tests\\test_lfw.py -> build\\lib.win-amd64-cpython-311\\sklearn\\datasets\\tests\n",
      "  copying sklearn\\datasets\\tests\\test_mldata.py -> build\\lib.win-amd64-cpython-311\\sklearn\\datasets\\tests\n",
      "  copying sklearn\\datasets\\tests\\test_openml.py -> build\\lib.win-amd64-cpython-311\\sklearn\\datasets\\tests\n",
      "  copying sklearn\\datasets\\tests\\test_rcv1.py -> build\\lib.win-amd64-cpython-311\\sklearn\\datasets\\tests\n",
      "  copying sklearn\\datasets\\tests\\test_samples_generator.py -> build\\lib.win-amd64-cpython-311\\sklearn\\datasets\\tests\n",
      "  copying sklearn\\datasets\\tests\\test_svmlight_format.py -> build\\lib.win-amd64-cpython-311\\sklearn\\datasets\\tests\n",
      "  copying sklearn\\datasets\\tests\\__init__.py -> build\\lib.win-amd64-cpython-311\\sklearn\\datasets\\tests\n",
      "  creating build\\lib.win-amd64-cpython-311\\sklearn\\decomposition\n",
      "  copying sklearn\\decomposition\\base.py -> build\\lib.win-amd64-cpython-311\\sklearn\\decomposition\n",
      "  copying sklearn\\decomposition\\dict_learning.py -> build\\lib.win-amd64-cpython-311\\sklearn\\decomposition\n",
      "  copying sklearn\\decomposition\\factor_analysis.py -> build\\lib.win-amd64-cpython-311\\sklearn\\decomposition\n",
      "  copying sklearn\\decomposition\\fastica_.py -> build\\lib.win-amd64-cpython-311\\sklearn\\decomposition\n",
      "  copying sklearn\\decomposition\\incremental_pca.py -> build\\lib.win-amd64-cpython-311\\sklearn\\decomposition\n",
      "  copying sklearn\\decomposition\\kernel_pca.py -> build\\lib.win-amd64-cpython-311\\sklearn\\decomposition\n",
      "  copying sklearn\\decomposition\\nmf.py -> build\\lib.win-amd64-cpython-311\\sklearn\\decomposition\n",
      "  copying sklearn\\decomposition\\online_lda.py -> build\\lib.win-amd64-cpython-311\\sklearn\\decomposition\n",
      "  copying sklearn\\decomposition\\pca.py -> build\\lib.win-amd64-cpython-311\\sklearn\\decomposition\n",
      "  copying sklearn\\decomposition\\setup.py -> build\\lib.win-amd64-cpython-311\\sklearn\\decomposition\n",
      "  copying sklearn\\decomposition\\sparse_pca.py -> build\\lib.win-amd64-cpython-311\\sklearn\\decomposition\n",
      "  copying sklearn\\decomposition\\truncated_svd.py -> build\\lib.win-amd64-cpython-311\\sklearn\\decomposition\n",
      "  copying sklearn\\decomposition\\__init__.py -> build\\lib.win-amd64-cpython-311\\sklearn\\decomposition\n",
      "  creating build\\lib.win-amd64-cpython-311\\sklearn\\decomposition\\tests\n",
      "  copying sklearn\\decomposition\\tests\\test_dict_learning.py -> build\\lib.win-amd64-cpython-311\\sklearn\\decomposition\\tests\n",
      "  copying sklearn\\decomposition\\tests\\test_factor_analysis.py -> build\\lib.win-amd64-cpython-311\\sklearn\\decomposition\\tests\n",
      "  copying sklearn\\decomposition\\tests\\test_fastica.py -> build\\lib.win-amd64-cpython-311\\sklearn\\decomposition\\tests\n",
      "  copying sklearn\\decomposition\\tests\\test_incremental_pca.py -> build\\lib.win-amd64-cpython-311\\sklearn\\decomposition\\tests\n",
      "  copying sklearn\\decomposition\\tests\\test_kernel_pca.py -> build\\lib.win-amd64-cpython-311\\sklearn\\decomposition\\tests\n",
      "  copying sklearn\\decomposition\\tests\\test_nmf.py -> build\\lib.win-amd64-cpython-311\\sklearn\\decomposition\\tests\n",
      "  copying sklearn\\decomposition\\tests\\test_online_lda.py -> build\\lib.win-amd64-cpython-311\\sklearn\\decomposition\\tests\n",
      "  copying sklearn\\decomposition\\tests\\test_pca.py -> build\\lib.win-amd64-cpython-311\\sklearn\\decomposition\\tests\n",
      "  copying sklearn\\decomposition\\tests\\test_sparse_pca.py -> build\\lib.win-amd64-cpython-311\\sklearn\\decomposition\\tests\n",
      "  copying sklearn\\decomposition\\tests\\test_truncated_svd.py -> build\\lib.win-amd64-cpython-311\\sklearn\\decomposition\\tests\n",
      "  copying sklearn\\decomposition\\tests\\__init__.py -> build\\lib.win-amd64-cpython-311\\sklearn\\decomposition\\tests\n",
      "  creating build\\lib.win-amd64-cpython-311\\sklearn\\ensemble\n",
      "  copying sklearn\\ensemble\\bagging.py -> build\\lib.win-amd64-cpython-311\\sklearn\\ensemble\n",
      "  copying sklearn\\ensemble\\base.py -> build\\lib.win-amd64-cpython-311\\sklearn\\ensemble\n",
      "  copying sklearn\\ensemble\\forest.py -> build\\lib.win-amd64-cpython-311\\sklearn\\ensemble\n",
      "  copying sklearn\\ensemble\\gradient_boosting.py -> build\\lib.win-amd64-cpython-311\\sklearn\\ensemble\n",
      "  copying sklearn\\ensemble\\iforest.py -> build\\lib.win-amd64-cpython-311\\sklearn\\ensemble\n",
      "  copying sklearn\\ensemble\\partial_dependence.py -> build\\lib.win-amd64-cpython-311\\sklearn\\ensemble\n",
      "  copying sklearn\\ensemble\\setup.py -> build\\lib.win-amd64-cpython-311\\sklearn\\ensemble\n",
      "  copying sklearn\\ensemble\\voting_classifier.py -> build\\lib.win-amd64-cpython-311\\sklearn\\ensemble\n",
      "  copying sklearn\\ensemble\\weight_boosting.py -> build\\lib.win-amd64-cpython-311\\sklearn\\ensemble\n",
      "  copying sklearn\\ensemble\\__init__.py -> build\\lib.win-amd64-cpython-311\\sklearn\\ensemble\n",
      "  creating build\\lib.win-amd64-cpython-311\\sklearn\\ensemble\\tests\n",
      "  copying sklearn\\ensemble\\tests\\test_bagging.py -> build\\lib.win-amd64-cpython-311\\sklearn\\ensemble\\tests\n",
      "  copying sklearn\\ensemble\\tests\\test_base.py -> build\\lib.win-amd64-cpython-311\\sklearn\\ensemble\\tests\n",
      "  copying sklearn\\ensemble\\tests\\test_forest.py -> build\\lib.win-amd64-cpython-311\\sklearn\\ensemble\\tests\n",
      "  copying sklearn\\ensemble\\tests\\test_gradient_boosting.py -> build\\lib.win-amd64-cpython-311\\sklearn\\ensemble\\tests\n",
      "  copying sklearn\\ensemble\\tests\\test_gradient_boosting_loss_functions.py -> build\\lib.win-amd64-cpython-311\\sklearn\\ensemble\\tests\n",
      "  copying sklearn\\ensemble\\tests\\test_iforest.py -> build\\lib.win-amd64-cpython-311\\sklearn\\ensemble\\tests\n",
      "  copying sklearn\\ensemble\\tests\\test_partial_dependence.py -> build\\lib.win-amd64-cpython-311\\sklearn\\ensemble\\tests\n",
      "  copying sklearn\\ensemble\\tests\\test_voting_classifier.py -> build\\lib.win-amd64-cpython-311\\sklearn\\ensemble\\tests\n",
      "  copying sklearn\\ensemble\\tests\\test_weight_boosting.py -> build\\lib.win-amd64-cpython-311\\sklearn\\ensemble\\tests\n",
      "  copying sklearn\\ensemble\\tests\\__init__.py -> build\\lib.win-amd64-cpython-311\\sklearn\\ensemble\\tests\n",
      "  creating build\\lib.win-amd64-cpython-311\\sklearn\\externals\n",
      "  copying sklearn\\externals\\conftest.py -> build\\lib.win-amd64-cpython-311\\sklearn\\externals\n",
      "  copying sklearn\\externals\\funcsigs.py -> build\\lib.win-amd64-cpython-311\\sklearn\\externals\n",
      "  copying sklearn\\externals\\setup.py -> build\\lib.win-amd64-cpython-311\\sklearn\\externals\n",
      "  copying sklearn\\externals\\six.py -> build\\lib.win-amd64-cpython-311\\sklearn\\externals\n",
      "  copying sklearn\\externals\\_arff.py -> build\\lib.win-amd64-cpython-311\\sklearn\\externals\n",
      "  copying sklearn\\externals\\_pilutil.py -> build\\lib.win-amd64-cpython-311\\sklearn\\externals\n",
      "  copying sklearn\\externals\\__init__.py -> build\\lib.win-amd64-cpython-311\\sklearn\\externals\n",
      "  creating build\\lib.win-amd64-cpython-311\\sklearn\\externals\\joblib\n",
      "  copying sklearn\\externals\\joblib\\backports.py -> build\\lib.win-amd64-cpython-311\\sklearn\\externals\\joblib\n",
      "  copying sklearn\\externals\\joblib\\compressor.py -> build\\lib.win-amd64-cpython-311\\sklearn\\externals\\joblib\n",
      "  copying sklearn\\externals\\joblib\\disk.py -> build\\lib.win-amd64-cpython-311\\sklearn\\externals\\joblib\n",
      "  copying sklearn\\externals\\joblib\\executor.py -> build\\lib.win-amd64-cpython-311\\sklearn\\externals\\joblib\n",
      "  copying sklearn\\externals\\joblib\\format_stack.py -> build\\lib.win-amd64-cpython-311\\sklearn\\externals\\joblib\n",
      "  copying sklearn\\externals\\joblib\\func_inspect.py -> build\\lib.win-amd64-cpython-311\\sklearn\\externals\\joblib\n",
      "  copying sklearn\\externals\\joblib\\hashing.py -> build\\lib.win-amd64-cpython-311\\sklearn\\externals\\joblib\n",
      "  copying sklearn\\externals\\joblib\\logger.py -> build\\lib.win-amd64-cpython-311\\sklearn\\externals\\joblib\n",
      "  copying sklearn\\externals\\joblib\\memory.py -> build\\lib.win-amd64-cpython-311\\sklearn\\externals\\joblib\n",
      "  copying sklearn\\externals\\joblib\\my_exceptions.py -> build\\lib.win-amd64-cpython-311\\sklearn\\externals\\joblib\n",
      "  copying sklearn\\externals\\joblib\\numpy_pickle.py -> build\\lib.win-amd64-cpython-311\\sklearn\\externals\\joblib\n",
      "  copying sklearn\\externals\\joblib\\numpy_pickle_compat.py -> build\\lib.win-amd64-cpython-311\\sklearn\\externals\\joblib\n",
      "  copying sklearn\\externals\\joblib\\numpy_pickle_utils.py -> build\\lib.win-amd64-cpython-311\\sklearn\\externals\\joblib\n",
      "  copying sklearn\\externals\\joblib\\parallel.py -> build\\lib.win-amd64-cpython-311\\sklearn\\externals\\joblib\n",
      "  copying sklearn\\externals\\joblib\\pool.py -> build\\lib.win-amd64-cpython-311\\sklearn\\externals\\joblib\n",
      "  copying sklearn\\externals\\joblib\\testing.py -> build\\lib.win-amd64-cpython-311\\sklearn\\externals\\joblib\n",
      "  copying sklearn\\externals\\joblib\\_compat.py -> build\\lib.win-amd64-cpython-311\\sklearn\\externals\\joblib\n",
      "  copying sklearn\\externals\\joblib\\_dask.py -> build\\lib.win-amd64-cpython-311\\sklearn\\externals\\joblib\n",
      "  copying sklearn\\externals\\joblib\\_memmapping_reducer.py -> build\\lib.win-amd64-cpython-311\\sklearn\\externals\\joblib\n",
      "  copying sklearn\\externals\\joblib\\_memory_helpers.py -> build\\lib.win-amd64-cpython-311\\sklearn\\externals\\joblib\n",
      "  copying sklearn\\externals\\joblib\\_multiprocessing_helpers.py -> build\\lib.win-amd64-cpython-311\\sklearn\\externals\\joblib\n",
      "  copying sklearn\\externals\\joblib\\_parallel_backends.py -> build\\lib.win-amd64-cpython-311\\sklearn\\externals\\joblib\n",
      "  copying sklearn\\externals\\joblib\\_store_backends.py -> build\\lib.win-amd64-cpython-311\\sklearn\\externals\\joblib\n",
      "  copying sklearn\\externals\\joblib\\__init__.py -> build\\lib.win-amd64-cpython-311\\sklearn\\externals\\joblib\n",
      "  creating build\\lib.win-amd64-cpython-311\\sklearn\\externals\\joblib\\externals\n",
      "  copying sklearn\\externals\\joblib\\externals\\__init__.py -> build\\lib.win-amd64-cpython-311\\sklearn\\externals\\joblib/externals\n",
      "  creating build\\lib.win-amd64-cpython-311\\sklearn\\externals\\joblib\\externals\\loky\n",
      "  copying sklearn\\externals\\joblib\\externals\\loky\\cloudpickle_wrapper.py -> build\\lib.win-amd64-cpython-311\\sklearn\\externals\\joblib/externals/loky\n",
      "  copying sklearn\\externals\\joblib\\externals\\loky\\process_executor.py -> build\\lib.win-amd64-cpython-311\\sklearn\\externals\\joblib/externals/loky\n",
      "  copying sklearn\\externals\\joblib\\externals\\loky\\reusable_executor.py -> build\\lib.win-amd64-cpython-311\\sklearn\\externals\\joblib/externals/loky\n",
      "  copying sklearn\\externals\\joblib\\externals\\loky\\_base.py -> build\\lib.win-amd64-cpython-311\\sklearn\\externals\\joblib/externals/loky\n",
      "  copying sklearn\\externals\\joblib\\externals\\loky\\__init__.py -> build\\lib.win-amd64-cpython-311\\sklearn\\externals\\joblib/externals/loky\n",
      "  creating build\\lib.win-amd64-cpython-311\\sklearn\\externals\\joblib\\externals\\loky\\backend\n",
      "  copying sklearn\\externals\\joblib\\externals\\loky\\backend\\compat.py -> build\\lib.win-amd64-cpython-311\\sklearn\\externals\\joblib/externals/loky/backend\n",
      "  copying sklearn\\externals\\joblib\\externals\\loky\\backend\\compat_posix.py -> build\\lib.win-amd64-cpython-311\\sklearn\\externals\\joblib/externals/loky/backend\n",
      "  copying sklearn\\externals\\joblib\\externals\\loky\\backend\\compat_win32.py -> build\\lib.win-amd64-cpython-311\\sklearn\\externals\\joblib/externals/loky/backend\n",
      "  copying sklearn\\externals\\joblib\\externals\\loky\\backend\\context.py -> build\\lib.win-amd64-cpython-311\\sklearn\\externals\\joblib/externals/loky/backend\n",
      "  copying sklearn\\externals\\joblib\\externals\\loky\\backend\\fork_exec.py -> build\\lib.win-amd64-cpython-311\\sklearn\\externals\\joblib/externals/loky/backend\n",
      "  copying sklearn\\externals\\joblib\\externals\\loky\\backend\\managers.py -> build\\lib.win-amd64-cpython-311\\sklearn\\externals\\joblib/externals/loky/backend\n",
      "  copying sklearn\\externals\\joblib\\externals\\loky\\backend\\popen_loky_posix.py -> build\\lib.win-amd64-cpython-311\\sklearn\\externals\\joblib/externals/loky/backend\n",
      "  copying sklearn\\externals\\joblib\\externals\\loky\\backend\\popen_loky_win32.py -> build\\lib.win-amd64-cpython-311\\sklearn\\externals\\joblib/externals/loky/backend\n",
      "  copying sklearn\\externals\\joblib\\externals\\loky\\backend\\process.py -> build\\lib.win-amd64-cpython-311\\sklearn\\externals\\joblib/externals/loky/backend\n",
      "  copying sklearn\\externals\\joblib\\externals\\loky\\backend\\queues.py -> build\\lib.win-amd64-cpython-311\\sklearn\\externals\\joblib/externals/loky/backend\n",
      "  copying sklearn\\externals\\joblib\\externals\\loky\\backend\\reduction.py -> build\\lib.win-amd64-cpython-311\\sklearn\\externals\\joblib/externals/loky/backend\n",
      "  copying sklearn\\externals\\joblib\\externals\\loky\\backend\\semaphore_tracker.py -> build\\lib.win-amd64-cpython-311\\sklearn\\externals\\joblib/externals/loky/backend\n",
      "  copying sklearn\\externals\\joblib\\externals\\loky\\backend\\semlock.py -> build\\lib.win-amd64-cpython-311\\sklearn\\externals\\joblib/externals/loky/backend\n",
      "  copying sklearn\\externals\\joblib\\externals\\loky\\backend\\spawn.py -> build\\lib.win-amd64-cpython-311\\sklearn\\externals\\joblib/externals/loky/backend\n",
      "  copying sklearn\\externals\\joblib\\externals\\loky\\backend\\synchronize.py -> build\\lib.win-amd64-cpython-311\\sklearn\\externals\\joblib/externals/loky/backend\n",
      "  copying sklearn\\externals\\joblib\\externals\\loky\\backend\\utils.py -> build\\lib.win-amd64-cpython-311\\sklearn\\externals\\joblib/externals/loky/backend\n",
      "  copying sklearn\\externals\\joblib\\externals\\loky\\backend\\_posix_reduction.py -> build\\lib.win-amd64-cpython-311\\sklearn\\externals\\joblib/externals/loky/backend\n",
      "  copying sklearn\\externals\\joblib\\externals\\loky\\backend\\_posix_wait.py -> build\\lib.win-amd64-cpython-311\\sklearn\\externals\\joblib/externals/loky/backend\n",
      "  copying sklearn\\externals\\joblib\\externals\\loky\\backend\\_win_reduction.py -> build\\lib.win-amd64-cpython-311\\sklearn\\externals\\joblib/externals/loky/backend\n",
      "  copying sklearn\\externals\\joblib\\externals\\loky\\backend\\_win_wait.py -> build\\lib.win-amd64-cpython-311\\sklearn\\externals\\joblib/externals/loky/backend\n",
      "  copying sklearn\\externals\\joblib\\externals\\loky\\backend\\__init__.py -> build\\lib.win-amd64-cpython-311\\sklearn\\externals\\joblib/externals/loky/backend\n",
      "  creating build\\lib.win-amd64-cpython-311\\sklearn\\externals\\joblib\\externals\\cloudpickle\n",
      "  copying sklearn\\externals\\joblib\\externals\\cloudpickle\\cloudpickle.py -> build\\lib.win-amd64-cpython-311\\sklearn\\externals\\joblib/externals/cloudpickle\n",
      "  copying sklearn\\externals\\joblib\\externals\\cloudpickle\\__init__.py -> build\\lib.win-amd64-cpython-311\\sklearn\\externals\\joblib/externals/cloudpickle\n",
      "  creating build\\lib.win-amd64-cpython-311\\sklearn\\feature_extraction\n",
      "  copying sklearn\\feature_extraction\\dict_vectorizer.py -> build\\lib.win-amd64-cpython-311\\sklearn\\feature_extraction\n",
      "  copying sklearn\\feature_extraction\\hashing.py -> build\\lib.win-amd64-cpython-311\\sklearn\\feature_extraction\n",
      "  copying sklearn\\feature_extraction\\image.py -> build\\lib.win-amd64-cpython-311\\sklearn\\feature_extraction\n",
      "  copying sklearn\\feature_extraction\\setup.py -> build\\lib.win-amd64-cpython-311\\sklearn\\feature_extraction\n",
      "  copying sklearn\\feature_extraction\\stop_words.py -> build\\lib.win-amd64-cpython-311\\sklearn\\feature_extraction\n",
      "  copying sklearn\\feature_extraction\\text.py -> build\\lib.win-amd64-cpython-311\\sklearn\\feature_extraction\n",
      "  copying sklearn\\feature_extraction\\__init__.py -> build\\lib.win-amd64-cpython-311\\sklearn\\feature_extraction\n",
      "  creating build\\lib.win-amd64-cpython-311\\sklearn\\feature_extraction\\tests\n",
      "  copying sklearn\\feature_extraction\\tests\\test_dict_vectorizer.py -> build\\lib.win-amd64-cpython-311\\sklearn\\feature_extraction\\tests\n",
      "  copying sklearn\\feature_extraction\\tests\\test_feature_hasher.py -> build\\lib.win-amd64-cpython-311\\sklearn\\feature_extraction\\tests\n",
      "  copying sklearn\\feature_extraction\\tests\\test_image.py -> build\\lib.win-amd64-cpython-311\\sklearn\\feature_extraction\\tests\n",
      "  copying sklearn\\feature_extraction\\tests\\test_text.py -> build\\lib.win-amd64-cpython-311\\sklearn\\feature_extraction\\tests\n",
      "  copying sklearn\\feature_extraction\\tests\\__init__.py -> build\\lib.win-amd64-cpython-311\\sklearn\\feature_extraction\\tests\n",
      "  creating build\\lib.win-amd64-cpython-311\\sklearn\\manifold\n",
      "  copying sklearn\\manifold\\isomap.py -> build\\lib.win-amd64-cpython-311\\sklearn\\manifold\n",
      "  copying sklearn\\manifold\\locally_linear.py -> build\\lib.win-amd64-cpython-311\\sklearn\\manifold\n",
      "  copying sklearn\\manifold\\mds.py -> build\\lib.win-amd64-cpython-311\\sklearn\\manifold\n",
      "  copying sklearn\\manifold\\setup.py -> build\\lib.win-amd64-cpython-311\\sklearn\\manifold\n",
      "  copying sklearn\\manifold\\spectral_embedding_.py -> build\\lib.win-amd64-cpython-311\\sklearn\\manifold\n",
      "  copying sklearn\\manifold\\t_sne.py -> build\\lib.win-amd64-cpython-311\\sklearn\\manifold\n",
      "  copying sklearn\\manifold\\__init__.py -> build\\lib.win-amd64-cpython-311\\sklearn\\manifold\n",
      "  creating build\\lib.win-amd64-cpython-311\\sklearn\\manifold\\tests\n",
      "  copying sklearn\\manifold\\tests\\test_isomap.py -> build\\lib.win-amd64-cpython-311\\sklearn\\manifold\\tests\n",
      "  copying sklearn\\manifold\\tests\\test_locally_linear.py -> build\\lib.win-amd64-cpython-311\\sklearn\\manifold\\tests\n",
      "  copying sklearn\\manifold\\tests\\test_mds.py -> build\\lib.win-amd64-cpython-311\\sklearn\\manifold\\tests\n",
      "  copying sklearn\\manifold\\tests\\test_spectral_embedding.py -> build\\lib.win-amd64-cpython-311\\sklearn\\manifold\\tests\n",
      "  copying sklearn\\manifold\\tests\\test_t_sne.py -> build\\lib.win-amd64-cpython-311\\sklearn\\manifold\\tests\n",
      "  copying sklearn\\manifold\\tests\\__init__.py -> build\\lib.win-amd64-cpython-311\\sklearn\\manifold\\tests\n",
      "  creating build\\lib.win-amd64-cpython-311\\sklearn\\metrics\n",
      "  copying sklearn\\metrics\\base.py -> build\\lib.win-amd64-cpython-311\\sklearn\\metrics\n",
      "  copying sklearn\\metrics\\classification.py -> build\\lib.win-amd64-cpython-311\\sklearn\\metrics\n",
      "  copying sklearn\\metrics\\pairwise.py -> build\\lib.win-amd64-cpython-311\\sklearn\\metrics\n",
      "  copying sklearn\\metrics\\ranking.py -> build\\lib.win-amd64-cpython-311\\sklearn\\metrics\n",
      "  copying sklearn\\metrics\\regression.py -> build\\lib.win-amd64-cpython-311\\sklearn\\metrics\n",
      "  copying sklearn\\metrics\\scorer.py -> build\\lib.win-amd64-cpython-311\\sklearn\\metrics\n",
      "  copying sklearn\\metrics\\setup.py -> build\\lib.win-amd64-cpython-311\\sklearn\\metrics\n",
      "  copying sklearn\\metrics\\__init__.py -> build\\lib.win-amd64-cpython-311\\sklearn\\metrics\n",
      "  creating build\\lib.win-amd64-cpython-311\\sklearn\\metrics\\cluster\n",
      "  copying sklearn\\metrics\\cluster\\bicluster.py -> build\\lib.win-amd64-cpython-311\\sklearn\\metrics\\cluster\n",
      "  copying sklearn\\metrics\\cluster\\setup.py -> build\\lib.win-amd64-cpython-311\\sklearn\\metrics\\cluster\n",
      "  copying sklearn\\metrics\\cluster\\supervised.py -> build\\lib.win-amd64-cpython-311\\sklearn\\metrics\\cluster\n",
      "  copying sklearn\\metrics\\cluster\\unsupervised.py -> build\\lib.win-amd64-cpython-311\\sklearn\\metrics\\cluster\n",
      "  copying sklearn\\metrics\\cluster\\__init__.py -> build\\lib.win-amd64-cpython-311\\sklearn\\metrics\\cluster\n",
      "  creating build\\lib.win-amd64-cpython-311\\sklearn\\metrics\\cluster\\tests\n",
      "  copying sklearn\\metrics\\cluster\\tests\\test_bicluster.py -> build\\lib.win-amd64-cpython-311\\sklearn\\metrics\\cluster\\tests\n",
      "  copying sklearn\\metrics\\cluster\\tests\\test_common.py -> build\\lib.win-amd64-cpython-311\\sklearn\\metrics\\cluster\\tests\n",
      "  copying sklearn\\metrics\\cluster\\tests\\test_supervised.py -> build\\lib.win-amd64-cpython-311\\sklearn\\metrics\\cluster\\tests\n",
      "  copying sklearn\\metrics\\cluster\\tests\\test_unsupervised.py -> build\\lib.win-amd64-cpython-311\\sklearn\\metrics\\cluster\\tests\n",
      "  copying sklearn\\metrics\\cluster\\tests\\__init__.py -> build\\lib.win-amd64-cpython-311\\sklearn\\metrics\\cluster\\tests\n",
      "  creating build\\lib.win-amd64-cpython-311\\sklearn\\metrics\\tests\n",
      "  copying sklearn\\metrics\\tests\\test_classification.py -> build\\lib.win-amd64-cpython-311\\sklearn\\metrics\\tests\n",
      "  copying sklearn\\metrics\\tests\\test_common.py -> build\\lib.win-amd64-cpython-311\\sklearn\\metrics\\tests\n",
      "  copying sklearn\\metrics\\tests\\test_pairwise.py -> build\\lib.win-amd64-cpython-311\\sklearn\\metrics\\tests\n",
      "  copying sklearn\\metrics\\tests\\test_ranking.py -> build\\lib.win-amd64-cpython-311\\sklearn\\metrics\\tests\n",
      "  copying sklearn\\metrics\\tests\\test_regression.py -> build\\lib.win-amd64-cpython-311\\sklearn\\metrics\\tests\n",
      "  copying sklearn\\metrics\\tests\\test_score_objects.py -> build\\lib.win-amd64-cpython-311\\sklearn\\metrics\\tests\n",
      "  copying sklearn\\metrics\\tests\\__init__.py -> build\\lib.win-amd64-cpython-311\\sklearn\\metrics\\tests\n",
      "  creating build\\lib.win-amd64-cpython-311\\sklearn\\neighbors\n",
      "  copying sklearn\\neighbors\\approximate.py -> build\\lib.win-amd64-cpython-311\\sklearn\\neighbors\n",
      "  copying sklearn\\neighbors\\base.py -> build\\lib.win-amd64-cpython-311\\sklearn\\neighbors\n",
      "  copying sklearn\\neighbors\\classification.py -> build\\lib.win-amd64-cpython-311\\sklearn\\neighbors\n",
      "  copying sklearn\\neighbors\\graph.py -> build\\lib.win-amd64-cpython-311\\sklearn\\neighbors\n",
      "  copying sklearn\\neighbors\\kde.py -> build\\lib.win-amd64-cpython-311\\sklearn\\neighbors\n",
      "  copying sklearn\\neighbors\\lof.py -> build\\lib.win-amd64-cpython-311\\sklearn\\neighbors\n",
      "  copying sklearn\\neighbors\\nearest_centroid.py -> build\\lib.win-amd64-cpython-311\\sklearn\\neighbors\n",
      "  copying sklearn\\neighbors\\regression.py -> build\\lib.win-amd64-cpython-311\\sklearn\\neighbors\n",
      "  copying sklearn\\neighbors\\setup.py -> build\\lib.win-amd64-cpython-311\\sklearn\\neighbors\n",
      "  copying sklearn\\neighbors\\unsupervised.py -> build\\lib.win-amd64-cpython-311\\sklearn\\neighbors\n",
      "  copying sklearn\\neighbors\\__init__.py -> build\\lib.win-amd64-cpython-311\\sklearn\\neighbors\n",
      "  creating build\\lib.win-amd64-cpython-311\\sklearn\\neighbors\\tests\n",
      "  copying sklearn\\neighbors\\tests\\test_approximate.py -> build\\lib.win-amd64-cpython-311\\sklearn\\neighbors\\tests\n",
      "  copying sklearn\\neighbors\\tests\\test_ball_tree.py -> build\\lib.win-amd64-cpython-311\\sklearn\\neighbors\\tests\n",
      "  copying sklearn\\neighbors\\tests\\test_dist_metrics.py -> build\\lib.win-amd64-cpython-311\\sklearn\\neighbors\\tests\n",
      "  copying sklearn\\neighbors\\tests\\test_kde.py -> build\\lib.win-amd64-cpython-311\\sklearn\\neighbors\\tests\n",
      "  copying sklearn\\neighbors\\tests\\test_kd_tree.py -> build\\lib.win-amd64-cpython-311\\sklearn\\neighbors\\tests\n",
      "  copying sklearn\\neighbors\\tests\\test_lof.py -> build\\lib.win-amd64-cpython-311\\sklearn\\neighbors\\tests\n",
      "  copying sklearn\\neighbors\\tests\\test_nearest_centroid.py -> build\\lib.win-amd64-cpython-311\\sklearn\\neighbors\\tests\n",
      "  copying sklearn\\neighbors\\tests\\test_neighbors.py -> build\\lib.win-amd64-cpython-311\\sklearn\\neighbors\\tests\n",
      "  copying sklearn\\neighbors\\tests\\test_quad_tree.py -> build\\lib.win-amd64-cpython-311\\sklearn\\neighbors\\tests\n",
      "  copying sklearn\\neighbors\\tests\\__init__.py -> build\\lib.win-amd64-cpython-311\\sklearn\\neighbors\\tests\n",
      "  creating build\\lib.win-amd64-cpython-311\\sklearn\\tree\n",
      "  copying sklearn\\tree\\export.py -> build\\lib.win-amd64-cpython-311\\sklearn\\tree\n",
      "  copying sklearn\\tree\\setup.py -> build\\lib.win-amd64-cpython-311\\sklearn\\tree\n",
      "  copying sklearn\\tree\\tree.py -> build\\lib.win-amd64-cpython-311\\sklearn\\tree\n",
      "  copying sklearn\\tree\\__init__.py -> build\\lib.win-amd64-cpython-311\\sklearn\\tree\n",
      "  creating build\\lib.win-amd64-cpython-311\\sklearn\\tree\\tests\n",
      "  copying sklearn\\tree\\tests\\test_export.py -> build\\lib.win-amd64-cpython-311\\sklearn\\tree\\tests\n",
      "  copying sklearn\\tree\\tests\\test_tree.py -> build\\lib.win-amd64-cpython-311\\sklearn\\tree\\tests\n",
      "  copying sklearn\\tree\\tests\\__init__.py -> build\\lib.win-amd64-cpython-311\\sklearn\\tree\\tests\n",
      "  creating build\\lib.win-amd64-cpython-311\\sklearn\\svm\n",
      "  copying sklearn\\svm\\base.py -> build\\lib.win-amd64-cpython-311\\sklearn\\svm\n",
      "  copying sklearn\\svm\\bounds.py -> build\\lib.win-amd64-cpython-311\\sklearn\\svm\n",
      "  copying sklearn\\svm\\classes.py -> build\\lib.win-amd64-cpython-311\\sklearn\\svm\n",
      "  copying sklearn\\svm\\setup.py -> build\\lib.win-amd64-cpython-311\\sklearn\\svm\n",
      "  copying sklearn\\svm\\__init__.py -> build\\lib.win-amd64-cpython-311\\sklearn\\svm\n",
      "  creating build\\lib.win-amd64-cpython-311\\sklearn\\svm\\tests\n",
      "  copying sklearn\\svm\\tests\\test_bounds.py -> build\\lib.win-amd64-cpython-311\\sklearn\\svm\\tests\n",
      "  copying sklearn\\svm\\tests\\test_sparse.py -> build\\lib.win-amd64-cpython-311\\sklearn\\svm\\tests\n",
      "  copying sklearn\\svm\\tests\\test_svm.py -> build\\lib.win-amd64-cpython-311\\sklearn\\svm\\tests\n",
      "  copying sklearn\\svm\\tests\\__init__.py -> build\\lib.win-amd64-cpython-311\\sklearn\\svm\\tests\n",
      "  creating build\\lib.win-amd64-cpython-311\\sklearn\\linear_model\n",
      "  copying sklearn\\linear_model\\base.py -> build\\lib.win-amd64-cpython-311\\sklearn\\linear_model\n",
      "  copying sklearn\\linear_model\\bayes.py -> build\\lib.win-amd64-cpython-311\\sklearn\\linear_model\n",
      "  copying sklearn\\linear_model\\coordinate_descent.py -> build\\lib.win-amd64-cpython-311\\sklearn\\linear_model\n",
      "  copying sklearn\\linear_model\\huber.py -> build\\lib.win-amd64-cpython-311\\sklearn\\linear_model\n",
      "  copying sklearn\\linear_model\\least_angle.py -> build\\lib.win-amd64-cpython-311\\sklearn\\linear_model\n",
      "  copying sklearn\\linear_model\\logistic.py -> build\\lib.win-amd64-cpython-311\\sklearn\\linear_model\n",
      "  copying sklearn\\linear_model\\omp.py -> build\\lib.win-amd64-cpython-311\\sklearn\\linear_model\n",
      "  copying sklearn\\linear_model\\passive_aggressive.py -> build\\lib.win-amd64-cpython-311\\sklearn\\linear_model\n",
      "  copying sklearn\\linear_model\\perceptron.py -> build\\lib.win-amd64-cpython-311\\sklearn\\linear_model\n",
      "  copying sklearn\\linear_model\\randomized_l1.py -> build\\lib.win-amd64-cpython-311\\sklearn\\linear_model\n",
      "  copying sklearn\\linear_model\\ransac.py -> build\\lib.win-amd64-cpython-311\\sklearn\\linear_model\n",
      "  copying sklearn\\linear_model\\ridge.py -> build\\lib.win-amd64-cpython-311\\sklearn\\linear_model\n",
      "  copying sklearn\\linear_model\\sag.py -> build\\lib.win-amd64-cpython-311\\sklearn\\linear_model\n",
      "  copying sklearn\\linear_model\\setup.py -> build\\lib.win-amd64-cpython-311\\sklearn\\linear_model\n",
      "  copying sklearn\\linear_model\\stochastic_gradient.py -> build\\lib.win-amd64-cpython-311\\sklearn\\linear_model\n",
      "  copying sklearn\\linear_model\\theil_sen.py -> build\\lib.win-amd64-cpython-311\\sklearn\\linear_model\n",
      "  copying sklearn\\linear_model\\__init__.py -> build\\lib.win-amd64-cpython-311\\sklearn\\linear_model\n",
      "  creating build\\lib.win-amd64-cpython-311\\sklearn\\linear_model\\tests\n",
      "  copying sklearn\\linear_model\\tests\\test_base.py -> build\\lib.win-amd64-cpython-311\\sklearn\\linear_model\\tests\n",
      "  copying sklearn\\linear_model\\tests\\test_bayes.py -> build\\lib.win-amd64-cpython-311\\sklearn\\linear_model\\tests\n",
      "  copying sklearn\\linear_model\\tests\\test_coordinate_descent.py -> build\\lib.win-amd64-cpython-311\\sklearn\\linear_model\\tests\n",
      "  copying sklearn\\linear_model\\tests\\test_huber.py -> build\\lib.win-amd64-cpython-311\\sklearn\\linear_model\\tests\n",
      "  copying sklearn\\linear_model\\tests\\test_least_angle.py -> build\\lib.win-amd64-cpython-311\\sklearn\\linear_model\\tests\n",
      "  copying sklearn\\linear_model\\tests\\test_logistic.py -> build\\lib.win-amd64-cpython-311\\sklearn\\linear_model\\tests\n",
      "  copying sklearn\\linear_model\\tests\\test_omp.py -> build\\lib.win-amd64-cpython-311\\sklearn\\linear_model\\tests\n",
      "  copying sklearn\\linear_model\\tests\\test_passive_aggressive.py -> build\\lib.win-amd64-cpython-311\\sklearn\\linear_model\\tests\n",
      "  copying sklearn\\linear_model\\tests\\test_perceptron.py -> build\\lib.win-amd64-cpython-311\\sklearn\\linear_model\\tests\n",
      "  copying sklearn\\linear_model\\tests\\test_randomized_l1.py -> build\\lib.win-amd64-cpython-311\\sklearn\\linear_model\\tests\n",
      "  copying sklearn\\linear_model\\tests\\test_ransac.py -> build\\lib.win-amd64-cpython-311\\sklearn\\linear_model\\tests\n",
      "  copying sklearn\\linear_model\\tests\\test_ridge.py -> build\\lib.win-amd64-cpython-311\\sklearn\\linear_model\\tests\n",
      "  copying sklearn\\linear_model\\tests\\test_sag.py -> build\\lib.win-amd64-cpython-311\\sklearn\\linear_model\\tests\n",
      "  copying sklearn\\linear_model\\tests\\test_sgd.py -> build\\lib.win-amd64-cpython-311\\sklearn\\linear_model\\tests\n",
      "  copying sklearn\\linear_model\\tests\\test_sparse_coordinate_descent.py -> build\\lib.win-amd64-cpython-311\\sklearn\\linear_model\\tests\n",
      "  copying sklearn\\linear_model\\tests\\test_theil_sen.py -> build\\lib.win-amd64-cpython-311\\sklearn\\linear_model\\tests\n",
      "  copying sklearn\\linear_model\\tests\\__init__.py -> build\\lib.win-amd64-cpython-311\\sklearn\\linear_model\\tests\n",
      "  creating build\\lib.win-amd64-cpython-311\\sklearn\\utils\n",
      "  copying sklearn\\utils\\arpack.py -> build\\lib.win-amd64-cpython-311\\sklearn\\utils\n",
      "  copying sklearn\\utils\\bench.py -> build\\lib.win-amd64-cpython-311\\sklearn\\utils\n",
      "  copying sklearn\\utils\\class_weight.py -> build\\lib.win-amd64-cpython-311\\sklearn\\utils\n",
      "  copying sklearn\\utils\\deprecation.py -> build\\lib.win-amd64-cpython-311\\sklearn\\utils\n",
      "  copying sklearn\\utils\\estimator_checks.py -> build\\lib.win-amd64-cpython-311\\sklearn\\utils\n",
      "  copying sklearn\\utils\\extmath.py -> build\\lib.win-amd64-cpython-311\\sklearn\\utils\n",
      "  copying sklearn\\utils\\fixes.py -> build\\lib.win-amd64-cpython-311\\sklearn\\utils\n",
      "  copying sklearn\\utils\\graph.py -> build\\lib.win-amd64-cpython-311\\sklearn\\utils\n",
      "  copying sklearn\\utils\\linear_assignment_.py -> build\\lib.win-amd64-cpython-311\\sklearn\\utils\n",
      "  copying sklearn\\utils\\metaestimators.py -> build\\lib.win-amd64-cpython-311\\sklearn\\utils\n",
      "  copying sklearn\\utils\\mocking.py -> build\\lib.win-amd64-cpython-311\\sklearn\\utils\n",
      "  copying sklearn\\utils\\multiclass.py -> build\\lib.win-amd64-cpython-311\\sklearn\\utils\n",
      "  copying sklearn\\utils\\optimize.py -> build\\lib.win-amd64-cpython-311\\sklearn\\utils\n",
      "  copying sklearn\\utils\\random.py -> build\\lib.win-amd64-cpython-311\\sklearn\\utils\n",
      "  copying sklearn\\utils\\setup.py -> build\\lib.win-amd64-cpython-311\\sklearn\\utils\n",
      "  copying sklearn\\utils\\sparsefuncs.py -> build\\lib.win-amd64-cpython-311\\sklearn\\utils\n",
      "  copying sklearn\\utils\\stats.py -> build\\lib.win-amd64-cpython-311\\sklearn\\utils\n",
      "  copying sklearn\\utils\\testing.py -> build\\lib.win-amd64-cpython-311\\sklearn\\utils\n",
      "  copying sklearn\\utils\\validation.py -> build\\lib.win-amd64-cpython-311\\sklearn\\utils\n",
      "  copying sklearn\\utils\\_joblib.py -> build\\lib.win-amd64-cpython-311\\sklearn\\utils\n",
      "  copying sklearn\\utils\\_scipy_sparse_lsqr_backport.py -> build\\lib.win-amd64-cpython-311\\sklearn\\utils\n",
      "  copying sklearn\\utils\\_show_versions.py -> build\\lib.win-amd64-cpython-311\\sklearn\\utils\n",
      "  copying sklearn\\utils\\_unittest_backport.py -> build\\lib.win-amd64-cpython-311\\sklearn\\utils\n",
      "  copying sklearn\\utils\\__init__.py -> build\\lib.win-amd64-cpython-311\\sklearn\\utils\n",
      "  creating build\\lib.win-amd64-cpython-311\\sklearn\\utils\\sparsetools\n",
      "  copying sklearn\\utils\\sparsetools\\setup.py -> build\\lib.win-amd64-cpython-311\\sklearn\\utils\\sparsetools\n",
      "  copying sklearn\\utils\\sparsetools\\__init__.py -> build\\lib.win-amd64-cpython-311\\sklearn\\utils\\sparsetools\n",
      "  creating build\\lib.win-amd64-cpython-311\\sklearn\\utils\\sparsetools\\tests\n",
      "  copying sklearn\\utils\\sparsetools\\tests\\__init__.py -> build\\lib.win-amd64-cpython-311\\sklearn\\utils\\sparsetools\\tests\n",
      "  creating build\\lib.win-amd64-cpython-311\\sklearn\\utils\\tests\n",
      "  copying sklearn\\utils\\tests\\test_bench.py -> build\\lib.win-amd64-cpython-311\\sklearn\\utils\\tests\n",
      "  copying sklearn\\utils\\tests\\test_class_weight.py -> build\\lib.win-amd64-cpython-311\\sklearn\\utils\\tests\n",
      "  copying sklearn\\utils\\tests\\test_deprecation.py -> build\\lib.win-amd64-cpython-311\\sklearn\\utils\\tests\n",
      "  copying sklearn\\utils\\tests\\test_estimator_checks.py -> build\\lib.win-amd64-cpython-311\\sklearn\\utils\\tests\n",
      "  copying sklearn\\utils\\tests\\test_extmath.py -> build\\lib.win-amd64-cpython-311\\sklearn\\utils\\tests\n",
      "  copying sklearn\\utils\\tests\\test_fast_dict.py -> build\\lib.win-amd64-cpython-311\\sklearn\\utils\\tests\n",
      "  copying sklearn\\utils\\tests\\test_fixes.py -> build\\lib.win-amd64-cpython-311\\sklearn\\utils\\tests\n",
      "  copying sklearn\\utils\\tests\\test_graph.py -> build\\lib.win-amd64-cpython-311\\sklearn\\utils\\tests\n",
      "  copying sklearn\\utils\\tests\\test_linear_assignment.py -> build\\lib.win-amd64-cpython-311\\sklearn\\utils\\tests\n",
      "  copying sklearn\\utils\\tests\\test_metaestimators.py -> build\\lib.win-amd64-cpython-311\\sklearn\\utils\\tests\n",
      "  copying sklearn\\utils\\tests\\test_multiclass.py -> build\\lib.win-amd64-cpython-311\\sklearn\\utils\\tests\n",
      "  copying sklearn\\utils\\tests\\test_murmurhash.py -> build\\lib.win-amd64-cpython-311\\sklearn\\utils\\tests\n",
      "  copying sklearn\\utils\\tests\\test_optimize.py -> build\\lib.win-amd64-cpython-311\\sklearn\\utils\\tests\n",
      "  copying sklearn\\utils\\tests\\test_random.py -> build\\lib.win-amd64-cpython-311\\sklearn\\utils\\tests\n",
      "  copying sklearn\\utils\\tests\\test_seq_dataset.py -> build\\lib.win-amd64-cpython-311\\sklearn\\utils\\tests\n",
      "  copying sklearn\\utils\\tests\\test_shortest_path.py -> build\\lib.win-amd64-cpython-311\\sklearn\\utils\\tests\n",
      "  copying sklearn\\utils\\tests\\test_show_versions.py -> build\\lib.win-amd64-cpython-311\\sklearn\\utils\\tests\n",
      "  copying sklearn\\utils\\tests\\test_sparsefuncs.py -> build\\lib.win-amd64-cpython-311\\sklearn\\utils\\tests\n",
      "  copying sklearn\\utils\\tests\\test_stats.py -> build\\lib.win-amd64-cpython-311\\sklearn\\utils\\tests\n",
      "  copying sklearn\\utils\\tests\\test_testing.py -> build\\lib.win-amd64-cpython-311\\sklearn\\utils\\tests\n",
      "  copying sklearn\\utils\\tests\\test_utils.py -> build\\lib.win-amd64-cpython-311\\sklearn\\utils\\tests\n",
      "  copying sklearn\\utils\\tests\\test_validation.py -> build\\lib.win-amd64-cpython-311\\sklearn\\utils\\tests\n",
      "  copying sklearn\\utils\\tests\\__init__.py -> build\\lib.win-amd64-cpython-311\\sklearn\\utils\\tests\n",
      "  creating build\\lib.win-amd64-cpython-311\\sklearn\\tests\n",
      "  copying sklearn\\tests\\test_base.py -> build\\lib.win-amd64-cpython-311\\sklearn\\tests\n",
      "  copying sklearn\\tests\\test_calibration.py -> build\\lib.win-amd64-cpython-311\\sklearn\\tests\n",
      "  copying sklearn\\tests\\test_check_build.py -> build\\lib.win-amd64-cpython-311\\sklearn\\tests\n",
      "  copying sklearn\\tests\\test_common.py -> build\\lib.win-amd64-cpython-311\\sklearn\\tests\n",
      "  copying sklearn\\tests\\test_config.py -> build\\lib.win-amd64-cpython-311\\sklearn\\tests\n",
      "  copying sklearn\\tests\\test_discriminant_analysis.py -> build\\lib.win-amd64-cpython-311\\sklearn\\tests\n",
      "  copying sklearn\\tests\\test_docstring_parameters.py -> build\\lib.win-amd64-cpython-311\\sklearn\\tests\n",
      "  copying sklearn\\tests\\test_dummy.py -> build\\lib.win-amd64-cpython-311\\sklearn\\tests\n",
      "  copying sklearn\\tests\\test_impute.py -> build\\lib.win-amd64-cpython-311\\sklearn\\tests\n",
      "  copying sklearn\\tests\\test_init.py -> build\\lib.win-amd64-cpython-311\\sklearn\\tests\n",
      "  copying sklearn\\tests\\test_isotonic.py -> build\\lib.win-amd64-cpython-311\\sklearn\\tests\n",
      "  copying sklearn\\tests\\test_kernel_approximation.py -> build\\lib.win-amd64-cpython-311\\sklearn\\tests\n",
      "  copying sklearn\\tests\\test_kernel_ridge.py -> build\\lib.win-amd64-cpython-311\\sklearn\\tests\n",
      "  copying sklearn\\tests\\test_metaestimators.py -> build\\lib.win-amd64-cpython-311\\sklearn\\tests\n",
      "  copying sklearn\\tests\\test_multiclass.py -> build\\lib.win-amd64-cpython-311\\sklearn\\tests\n",
      "  copying sklearn\\tests\\test_multioutput.py -> build\\lib.win-amd64-cpython-311\\sklearn\\tests\n",
      "  copying sklearn\\tests\\test_naive_bayes.py -> build\\lib.win-amd64-cpython-311\\sklearn\\tests\n",
      "  copying sklearn\\tests\\test_pipeline.py -> build\\lib.win-amd64-cpython-311\\sklearn\\tests\n",
      "  copying sklearn\\tests\\test_random_projection.py -> build\\lib.win-amd64-cpython-311\\sklearn\\tests\n",
      "  copying sklearn\\tests\\test_site_joblib.py -> build\\lib.win-amd64-cpython-311\\sklearn\\tests\n",
      "  copying sklearn\\tests\\__init__.py -> build\\lib.win-amd64-cpython-311\\sklearn\\tests\n",
      "  running build_clib\n",
      "  INFO: No module named 'numpy.distutils._msvccompiler' in numpy.distutils; trying from distutils\n",
      "  INFO: customize MSVCCompiler\n",
      "  WARN: Missing compiler_cxx fix for MSVCCompiler\n",
      "  INFO: customize MSVCCompiler using build_clib\n",
      "  INFO: CCompilerOpt.cc_test_flags[1077] : testing flags (/O2)\n",
      "  error: Microsoft Visual C++ 14.0 or greater is required. Get it with \"Microsoft C++ Build Tools\": https://visualstudio.microsoft.com/visual-cpp-build-tools/\n",
      "  INFO: CCompilerOpt.cache_flush[857] : write cache to path -> C:\\Users\\raghuadmin\\AppData\\Local\\Temp\\pip-install-nhqms7d5\\scikit-learn_e94eba4b77824ad69048146fa3e677e7\\build\\temp.win-amd64-cpython-311\\ccompiler_opt_cache_clib.py\n",
      "  [end of output]\n",
      "  \n",
      "  note: This error originates from a subprocess, and is likely not a problem with pip.\n",
      "  ERROR: Failed building wheel for scikit-learn\n",
      "ERROR: Could not build wheels for scikit-learn, which is required to install pyproject.toml-based projects\n"
     ]
    }
   ],
   "source": [
    "!pip install --upgrade scikit-learn==0.20.3"
   ]
  },
  {
   "cell_type": "code",
   "execution_count": 58,
   "id": "0201874e",
   "metadata": {},
   "outputs": [
    {
     "ename": "ModuleNotFoundError",
     "evalue": "No module named 'sklearn.externals.six'",
     "output_type": "error",
     "traceback": [
      "\u001b[1;31m---------------------------------------------------------------------------\u001b[0m",
      "\u001b[1;31mModuleNotFoundError\u001b[0m                       Traceback (most recent call last)",
      "Cell \u001b[1;32mIn[58], line 1\u001b[0m\n\u001b[1;32m----> 1\u001b[0m \u001b[38;5;28;01mfrom\u001b[39;00m \u001b[38;5;21;01msklearn\u001b[39;00m\u001b[38;5;21;01m.\u001b[39;00m\u001b[38;5;21;01mexternals\u001b[39;00m\u001b[38;5;21;01m.\u001b[39;00m\u001b[38;5;21;01msix\u001b[39;00m \u001b[38;5;28;01mimport\u001b[39;00m StringIO\n",
      "\u001b[1;31mModuleNotFoundError\u001b[0m: No module named 'sklearn.externals.six'"
     ]
    }
   ],
   "source": [
    "from sklearn.externals.six import StringIO"
   ]
  },
  {
   "cell_type": "code",
   "execution_count": 59,
   "id": "f4dc7a0d",
   "metadata": {},
   "outputs": [],
   "source": [
    "import six"
   ]
  },
  {
   "cell_type": "code",
   "execution_count": 60,
   "id": "3721e01c",
   "metadata": {},
   "outputs": [
    {
     "ename": "NameError",
     "evalue": "name 'StringIO' is not defined",
     "output_type": "error",
     "traceback": [
      "\u001b[1;31m---------------------------------------------------------------------------\u001b[0m",
      "\u001b[1;31mNameError\u001b[0m                                 Traceback (most recent call last)",
      "Cell \u001b[1;32mIn[60], line 1\u001b[0m\n\u001b[1;32m----> 1\u001b[0m dot_data \u001b[38;5;241m=\u001b[39m StringIO()\n",
      "\u001b[1;31mNameError\u001b[0m: name 'StringIO' is not defined"
     ]
    }
   ],
   "source": []
  },
  {
   "cell_type": "code",
   "execution_count": 61,
   "id": "34dcae31",
   "metadata": {},
   "outputs": [],
   "source": [
    "from io import StringIO"
   ]
  },
  {
   "cell_type": "code",
   "execution_count": 62,
   "id": "72c08023",
   "metadata": {},
   "outputs": [],
   "source": []
  },
  {
   "cell_type": "code",
   "execution_count": 67,
   "id": "abf1729c",
   "metadata": {},
   "outputs": [
    {
     "data": {
      "text/plain": [
       "['Age', 'Number', 'Start']"
      ]
     },
     "execution_count": 67,
     "metadata": {},
     "output_type": "execute_result"
    }
   ],
   "source": [
    "features = list(df.columns[1:])\n",
    "features"
   ]
  },
  {
   "cell_type": "code",
   "execution_count": 68,
   "id": "f4393296",
   "metadata": {},
   "outputs": [],
   "source": [
    "import pydot\n",
    "dot_data = StringIO()"
   ]
  },
  {
   "cell_type": "code",
   "execution_count": 66,
   "id": "96ca3126",
   "metadata": {},
   "outputs": [
    {
     "ename": "FileNotFoundError",
     "evalue": "[WinError 2] \"dot\" not found in path.",
     "output_type": "error",
     "traceback": [
      "\u001b[1;31m---------------------------------------------------------------------------\u001b[0m",
      "\u001b[1;31mFileNotFoundError\u001b[0m                         Traceback (most recent call last)",
      "File \u001b[1;32m~\\anaconda3\\Lib\\site-packages\\pydot.py:1923\u001b[0m, in \u001b[0;36mDot.create\u001b[1;34m(self, prog, format, encoding)\u001b[0m\n\u001b[0;32m   1922\u001b[0m \u001b[38;5;28;01mtry\u001b[39;00m:\n\u001b[1;32m-> 1923\u001b[0m     stdout_data, stderr_data, process \u001b[38;5;241m=\u001b[39m call_graphviz(\n\u001b[0;32m   1924\u001b[0m         program\u001b[38;5;241m=\u001b[39mprog,\n\u001b[0;32m   1925\u001b[0m         arguments\u001b[38;5;241m=\u001b[39marguments,\n\u001b[0;32m   1926\u001b[0m         working_dir\u001b[38;5;241m=\u001b[39mtmp_dir,\n\u001b[0;32m   1927\u001b[0m     )\n\u001b[0;32m   1928\u001b[0m \u001b[38;5;28;01mexcept\u001b[39;00m \u001b[38;5;167;01mOSError\u001b[39;00m \u001b[38;5;28;01mas\u001b[39;00m e:\n",
      "File \u001b[1;32m~\\anaconda3\\Lib\\site-packages\\pydot.py:132\u001b[0m, in \u001b[0;36mcall_graphviz\u001b[1;34m(program, arguments, working_dir, **kwargs)\u001b[0m\n\u001b[0;32m    130\u001b[0m program_with_args \u001b[38;5;241m=\u001b[39m [program, ] \u001b[38;5;241m+\u001b[39m arguments\n\u001b[1;32m--> 132\u001b[0m process \u001b[38;5;241m=\u001b[39m subprocess\u001b[38;5;241m.\u001b[39mPopen(\n\u001b[0;32m    133\u001b[0m     program_with_args,\n\u001b[0;32m    134\u001b[0m     env\u001b[38;5;241m=\u001b[39menv,\n\u001b[0;32m    135\u001b[0m     cwd\u001b[38;5;241m=\u001b[39mworking_dir,\n\u001b[0;32m    136\u001b[0m     shell\u001b[38;5;241m=\u001b[39m\u001b[38;5;28;01mFalse\u001b[39;00m,\n\u001b[0;32m    137\u001b[0m     stderr\u001b[38;5;241m=\u001b[39msubprocess\u001b[38;5;241m.\u001b[39mPIPE,\n\u001b[0;32m    138\u001b[0m     stdout\u001b[38;5;241m=\u001b[39msubprocess\u001b[38;5;241m.\u001b[39mPIPE,\n\u001b[0;32m    139\u001b[0m     \u001b[38;5;241m*\u001b[39m\u001b[38;5;241m*\u001b[39mkwargs\n\u001b[0;32m    140\u001b[0m )\n\u001b[0;32m    141\u001b[0m stdout_data, stderr_data \u001b[38;5;241m=\u001b[39m process\u001b[38;5;241m.\u001b[39mcommunicate()\n",
      "File \u001b[1;32m~\\anaconda3\\Lib\\subprocess.py:1026\u001b[0m, in \u001b[0;36mPopen.__init__\u001b[1;34m(self, args, bufsize, executable, stdin, stdout, stderr, preexec_fn, close_fds, shell, cwd, env, universal_newlines, startupinfo, creationflags, restore_signals, start_new_session, pass_fds, user, group, extra_groups, encoding, errors, text, umask, pipesize, process_group)\u001b[0m\n\u001b[0;32m   1023\u001b[0m             \u001b[38;5;28mself\u001b[39m\u001b[38;5;241m.\u001b[39mstderr \u001b[38;5;241m=\u001b[39m io\u001b[38;5;241m.\u001b[39mTextIOWrapper(\u001b[38;5;28mself\u001b[39m\u001b[38;5;241m.\u001b[39mstderr,\n\u001b[0;32m   1024\u001b[0m                     encoding\u001b[38;5;241m=\u001b[39mencoding, errors\u001b[38;5;241m=\u001b[39merrors)\n\u001b[1;32m-> 1026\u001b[0m     \u001b[38;5;28mself\u001b[39m\u001b[38;5;241m.\u001b[39m_execute_child(args, executable, preexec_fn, close_fds,\n\u001b[0;32m   1027\u001b[0m                         pass_fds, cwd, env,\n\u001b[0;32m   1028\u001b[0m                         startupinfo, creationflags, shell,\n\u001b[0;32m   1029\u001b[0m                         p2cread, p2cwrite,\n\u001b[0;32m   1030\u001b[0m                         c2pread, c2pwrite,\n\u001b[0;32m   1031\u001b[0m                         errread, errwrite,\n\u001b[0;32m   1032\u001b[0m                         restore_signals,\n\u001b[0;32m   1033\u001b[0m                         gid, gids, uid, umask,\n\u001b[0;32m   1034\u001b[0m                         start_new_session, process_group)\n\u001b[0;32m   1035\u001b[0m \u001b[38;5;28;01mexcept\u001b[39;00m:\n\u001b[0;32m   1036\u001b[0m     \u001b[38;5;66;03m# Cleanup if the child failed starting.\u001b[39;00m\n",
      "File \u001b[1;32m~\\anaconda3\\Lib\\subprocess.py:1538\u001b[0m, in \u001b[0;36mPopen._execute_child\u001b[1;34m(self, args, executable, preexec_fn, close_fds, pass_fds, cwd, env, startupinfo, creationflags, shell, p2cread, p2cwrite, c2pread, c2pwrite, errread, errwrite, unused_restore_signals, unused_gid, unused_gids, unused_uid, unused_umask, unused_start_new_session, unused_process_group)\u001b[0m\n\u001b[0;32m   1537\u001b[0m \u001b[38;5;28;01mtry\u001b[39;00m:\n\u001b[1;32m-> 1538\u001b[0m     hp, ht, pid, tid \u001b[38;5;241m=\u001b[39m _winapi\u001b[38;5;241m.\u001b[39mCreateProcess(executable, args,\n\u001b[0;32m   1539\u001b[0m                              \u001b[38;5;66;03m# no special security\u001b[39;00m\n\u001b[0;32m   1540\u001b[0m                              \u001b[38;5;28;01mNone\u001b[39;00m, \u001b[38;5;28;01mNone\u001b[39;00m,\n\u001b[0;32m   1541\u001b[0m                              \u001b[38;5;28mint\u001b[39m(\u001b[38;5;129;01mnot\u001b[39;00m close_fds),\n\u001b[0;32m   1542\u001b[0m                              creationflags,\n\u001b[0;32m   1543\u001b[0m                              env,\n\u001b[0;32m   1544\u001b[0m                              cwd,\n\u001b[0;32m   1545\u001b[0m                              startupinfo)\n\u001b[0;32m   1546\u001b[0m \u001b[38;5;28;01mfinally\u001b[39;00m:\n\u001b[0;32m   1547\u001b[0m     \u001b[38;5;66;03m# Child is launched. Close the parent's copy of those pipe\u001b[39;00m\n\u001b[0;32m   1548\u001b[0m     \u001b[38;5;66;03m# handles that only the child should have open.  You need\u001b[39;00m\n\u001b[1;32m   (...)\u001b[0m\n\u001b[0;32m   1551\u001b[0m     \u001b[38;5;66;03m# pipe will not close when the child process exits and the\u001b[39;00m\n\u001b[0;32m   1552\u001b[0m     \u001b[38;5;66;03m# ReadFile will hang.\u001b[39;00m\n",
      "\u001b[1;31mFileNotFoundError\u001b[0m: [WinError 2] The system cannot find the file specified",
      "\nDuring handling of the above exception, another exception occurred:\n",
      "\u001b[1;31mFileNotFoundError\u001b[0m                         Traceback (most recent call last)",
      "Cell \u001b[1;32mIn[66], line 6\u001b[0m\n\u001b[0;32m      3\u001b[0m export_graphviz(dtree,out_file \u001b[38;5;241m=\u001b[39mdot_data,feature_names\u001b[38;5;241m=\u001b[39mfeatures,filled\u001b[38;5;241m=\u001b[39m\u001b[38;5;28;01mTrue\u001b[39;00m,\n\u001b[0;32m      4\u001b[0m                rounded\u001b[38;5;241m=\u001b[39m\u001b[38;5;28;01mFalse\u001b[39;00m)\n\u001b[0;32m      5\u001b[0m graph \u001b[38;5;241m=\u001b[39m pydot\u001b[38;5;241m.\u001b[39mgraph_from_dot_data(dot_data\u001b[38;5;241m.\u001b[39mgetvalue())\n\u001b[1;32m----> 6\u001b[0m Image(graph[\u001b[38;5;241m0\u001b[39m]\u001b[38;5;241m.\u001b[39mcreate_png())\n",
      "File \u001b[1;32m~\\anaconda3\\Lib\\site-packages\\pydot.py:1733\u001b[0m, in \u001b[0;36mDot.__init__.<locals>.new_method\u001b[1;34m(f, prog, encoding)\u001b[0m\n\u001b[0;32m   1729\u001b[0m \u001b[38;5;28;01mdef\u001b[39;00m \u001b[38;5;21mnew_method\u001b[39m(\n\u001b[0;32m   1730\u001b[0m         f\u001b[38;5;241m=\u001b[39mfrmt, prog\u001b[38;5;241m=\u001b[39m\u001b[38;5;28mself\u001b[39m\u001b[38;5;241m.\u001b[39mprog,\n\u001b[0;32m   1731\u001b[0m         encoding\u001b[38;5;241m=\u001b[39m\u001b[38;5;28;01mNone\u001b[39;00m):\n\u001b[0;32m   1732\u001b[0m \u001b[38;5;250m    \u001b[39m\u001b[38;5;124;03m\"\"\"Refer to docstring of method `create`.\"\"\"\u001b[39;00m\n\u001b[1;32m-> 1733\u001b[0m     \u001b[38;5;28;01mreturn\u001b[39;00m \u001b[38;5;28mself\u001b[39m\u001b[38;5;241m.\u001b[39mcreate(\n\u001b[0;32m   1734\u001b[0m         \u001b[38;5;28mformat\u001b[39m\u001b[38;5;241m=\u001b[39mf, prog\u001b[38;5;241m=\u001b[39mprog, encoding\u001b[38;5;241m=\u001b[39mencoding)\n",
      "File \u001b[1;32m~\\anaconda3\\Lib\\site-packages\\pydot.py:1933\u001b[0m, in \u001b[0;36mDot.create\u001b[1;34m(self, prog, format, encoding)\u001b[0m\n\u001b[0;32m   1930\u001b[0m     args \u001b[38;5;241m=\u001b[39m \u001b[38;5;28mlist\u001b[39m(e\u001b[38;5;241m.\u001b[39margs)\n\u001b[0;32m   1931\u001b[0m     args[\u001b[38;5;241m1\u001b[39m] \u001b[38;5;241m=\u001b[39m \u001b[38;5;124m'\u001b[39m\u001b[38;5;124m\"\u001b[39m\u001b[38;5;132;01m{prog}\u001b[39;00m\u001b[38;5;124m\"\u001b[39m\u001b[38;5;124m not found in path.\u001b[39m\u001b[38;5;124m'\u001b[39m\u001b[38;5;241m.\u001b[39mformat(\n\u001b[0;32m   1932\u001b[0m         prog\u001b[38;5;241m=\u001b[39mprog)\n\u001b[1;32m-> 1933\u001b[0m     \u001b[38;5;28;01mraise\u001b[39;00m \u001b[38;5;167;01mOSError\u001b[39;00m(\u001b[38;5;241m*\u001b[39margs)\n\u001b[0;32m   1934\u001b[0m \u001b[38;5;28;01melse\u001b[39;00m:\n\u001b[0;32m   1935\u001b[0m     \u001b[38;5;28;01mraise\u001b[39;00m\n",
      "\u001b[1;31mFileNotFoundError\u001b[0m: [WinError 2] \"dot\" not found in path."
     ]
    }
   ],
   "source": [
    "\n",
    "export_graphviz(dtree,out_file =dot_data,feature_names=features,filled=True,\n",
    "               rounded=False)\n",
    "graph = pydot.graph_from_dot_data(dot_data.getvalue())\n",
    "Image(graph[0].create_png())"
   ]
  },
  {
   "cell_type": "code",
   "execution_count": null,
   "id": "955f35b4",
   "metadata": {},
   "outputs": [],
   "source": []
  },
  {
   "cell_type": "code",
   "execution_count": null,
   "id": "ad521b13",
   "metadata": {},
   "outputs": [],
   "source": []
  }
 ],
 "metadata": {
  "kernelspec": {
   "display_name": "Python 3 (ipykernel)",
   "language": "python",
   "name": "python3"
  },
  "language_info": {
   "codemirror_mode": {
    "name": "ipython",
    "version": 3
   },
   "file_extension": ".py",
   "mimetype": "text/x-python",
   "name": "python",
   "nbconvert_exporter": "python",
   "pygments_lexer": "ipython3",
   "version": "3.11.5"
  }
 },
 "nbformat": 4,
 "nbformat_minor": 5
}
