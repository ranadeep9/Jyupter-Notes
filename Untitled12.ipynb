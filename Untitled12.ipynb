{
 "cells": [
  {
   "cell_type": "code",
   "execution_count": null,
   "id": "456113f8",
   "metadata": {},
   "outputs": [],
   "source": [
    "x = 33 #(Assigning x value as 33)"
   ]
  },
  {
   "cell_type": "code",
   "execution_count": null,
   "id": "b74858a8",
   "metadata": {},
   "outputs": [],
   "source": [
    "465+6546*656469-8+9"
   ]
  },
  {
   "cell_type": "code",
   "execution_count": null,
   "id": "5057e7e4",
   "metadata": {},
   "outputs": [],
   "source": [
    "4656+6546"
   ]
  },
  {
   "cell_type": "code",
   "execution_count": null,
   "id": "aaba0051",
   "metadata": {},
   "outputs": [],
   "source": [
    "type(x)"
   ]
  },
  {
   "cell_type": "code",
   "execution_count": null,
   "id": "fc1025fa",
   "metadata": {},
   "outputs": [],
   "source": [
    "y = 55.369"
   ]
  },
  {
   "cell_type": "code",
   "execution_count": null,
   "id": "e3d0d8a2",
   "metadata": {},
   "outputs": [],
   "source": [
    "type(y)"
   ]
  },
  {
   "cell_type": "code",
   "execution_count": null,
   "id": "c5f71aa8",
   "metadata": {},
   "outputs": [],
   "source": [
    "# Handling with Numeric Data : \n"
   ]
  },
  {
   "cell_type": "code",
   "execution_count": null,
   "id": "09a27758",
   "metadata": {},
   "outputs": [],
   "source": [
    "5465+646"
   ]
  },
  {
   "cell_type": "code",
   "execution_count": null,
   "id": "bb675f2a",
   "metadata": {},
   "outputs": [],
   "source": [
    "x1 = 45\n",
    "x2 = 55\n",
    "x3 = 45 + 5"
   ]
  },
  {
   "cell_type": "code",
   "execution_count": null,
   "id": "4c0c5ff5",
   "metadata": {},
   "outputs": [],
   "source": [
    "x3"
   ]
  },
  {
   "cell_type": "code",
   "execution_count": null,
   "id": "30c1409d",
   "metadata": {},
   "outputs": [],
   "source": [
    "x1 * x2"
   ]
  },
  {
   "cell_type": "code",
   "execution_count": null,
   "id": "da49981c",
   "metadata": {},
   "outputs": [],
   "source": [
    "# comparative operator :\n",
    "x1 > x2"
   ]
  },
  {
   "cell_type": "code",
   "execution_count": null,
   "id": "e47195bc",
   "metadata": {},
   "outputs": [],
   "source": [
    "55 >55"
   ]
  },
  {
   "cell_type": "code",
   "execution_count": null,
   "id": "ad32670e",
   "metadata": {},
   "outputs": [],
   "source": [
    "55 == 55"
   ]
  },
  {
   "cell_type": "code",
   "execution_count": null,
   "id": "9c111558",
   "metadata": {},
   "outputs": [],
   "source": [
    "# handling with str data : \n",
    "# ' ' or \" \""
   ]
  },
  {
   "cell_type": "code",
   "execution_count": null,
   "id": "d35dd52f",
   "metadata": {},
   "outputs": [],
   "source": [
    "name = \"python\""
   ]
  },
  {
   "cell_type": "code",
   "execution_count": null,
   "id": "694ddbf5",
   "metadata": {},
   "outputs": [],
   "source": [
    "type(name)"
   ]
  },
  {
   "cell_type": "code",
   "execution_count": null,
   "id": "99cab21e",
   "metadata": {},
   "outputs": [],
   "source": [
    "num = \"4569\""
   ]
  },
  {
   "cell_type": "code",
   "execution_count": null,
   "id": "6b86bd16",
   "metadata": {},
   "outputs": [],
   "source": [
    "type(num)"
   ]
  },
  {
   "cell_type": "code",
   "execution_count": 1,
   "id": "cc5e888a",
   "metadata": {},
   "outputs": [],
   "source": [
    "sts = [\"hyd\",\"sec\",\"mum\",\"che\",\"pune\",\"delhi\",\"viz\"]\n",
    "# +Ve    0     1     2     3      4      5      6\n",
    "# -Ve   -7    -6    -5    -4     -3     -2     -1"
   ]
  },
  {
   "cell_type": "code",
   "execution_count": 2,
   "id": "f0bff16d",
   "metadata": {},
   "outputs": [
    {
     "data": {
      "text/plain": [
       "list"
      ]
     },
     "execution_count": 2,
     "metadata": {},
     "output_type": "execute_result"
    }
   ],
   "source": [
    "type(sts)"
   ]
  },
  {
   "cell_type": "code",
   "execution_count": 3,
   "id": "addf4a39",
   "metadata": {},
   "outputs": [
    {
     "name": "stdout",
     "output_type": "stream",
     "text": [
      "['hyd', 'sec', 'mum', 'che', 'pune', 'delhi', 'viz']\n"
     ]
    }
   ],
   "source": [
    "print(sts)"
   ]
  },
  {
   "cell_type": "code",
   "execution_count": 4,
   "id": "81254b1d",
   "metadata": {},
   "outputs": [
    {
     "name": "stdout",
     "output_type": "stream",
     "text": [
      "['hyd', 'sec', 'mum', 'che', 'pune', 'delhi', 'viz']\n"
     ]
    }
   ],
   "source": [
    "# operation on list \n",
    "print(sts[:])"
   ]
  },
  {
   "cell_type": "code",
   "execution_count": 5,
   "id": "5bc4d828",
   "metadata": {},
   "outputs": [
    {
     "name": "stdout",
     "output_type": "stream",
     "text": [
      "mum\n"
     ]
    }
   ],
   "source": [
    "print(sts[2])"
   ]
  },
  {
   "cell_type": "code",
   "execution_count": 6,
   "id": "ef0afb68",
   "metadata": {},
   "outputs": [
    {
     "name": "stdout",
     "output_type": "stream",
     "text": [
      "che\n"
     ]
    }
   ],
   "source": [
    "print(sts[-4])"
   ]
  },
  {
   "cell_type": "code",
   "execution_count": 7,
   "id": "c9681bd9",
   "metadata": {},
   "outputs": [],
   "source": [
    "# append obj will be added at last \n",
    "sts.append(\"LONDON\")"
   ]
  },
  {
   "cell_type": "code",
   "execution_count": 8,
   "id": "6b9a1660",
   "metadata": {},
   "outputs": [
    {
     "name": "stdout",
     "output_type": "stream",
     "text": [
      "['hyd', 'sec', 'mum', 'che', 'pune', 'delhi', 'viz', 'LONDON']\n"
     ]
    }
   ],
   "source": [
    "print(sts)"
   ]
  },
  {
   "cell_type": "code",
   "execution_count": 9,
   "id": "ec20d7be",
   "metadata": {},
   "outputs": [
    {
     "name": "stdout",
     "output_type": "stream",
     "text": [
      "['hyd', 'MAN', 'sec', 'mum', 'che', 'pune', 'delhi', 'viz', 'LONDON']\n"
     ]
    }
   ],
   "source": [
    "# isert object based on index position\n",
    "sts.insert(1,\"MAN\")\n",
    "print(sts)"
   ]
  },
  {
   "cell_type": "code",
   "execution_count": 10,
   "id": "dcdc0579",
   "metadata": {},
   "outputs": [
    {
     "name": "stdout",
     "output_type": "stream",
     "text": [
      "['hyd', 'sec', 'mum', 'che', 'pune', 'delhi', 'viz', 'LONDON']\n"
     ]
    }
   ],
   "source": [
    "# delete object based on index position\n",
    "del sts[1]\n",
    "print(sts)"
   ]
  },
  {
   "cell_type": "code",
   "execution_count": 11,
   "id": "7eeb9da8",
   "metadata": {},
   "outputs": [
    {
     "name": "stdout",
     "output_type": "stream",
     "text": [
      "['hyd', 'sec', 'mum', 'che', 'pune', 'delhi', 'viz']\n"
     ]
    }
   ],
   "source": [
    "# remove obj based on obj name\n",
    "sts.remove(\"LONDON\")\n",
    "print(sts)"
   ]
  },
  {
   "cell_type": "code",
   "execution_count": 12,
   "id": "830ab195",
   "metadata": {},
   "outputs": [
    {
     "name": "stdout",
     "output_type": "stream",
     "text": [
      "Mum\n",
      "MUM\n"
     ]
    }
   ],
   "source": [
    "print(sts[2].title())\n",
    "print(sts[2].upper())"
   ]
  },
  {
   "cell_type": "code",
   "execution_count": 13,
   "id": "4d9443d9",
   "metadata": {},
   "outputs": [
    {
     "name": "stdout",
     "output_type": "stream",
     "text": [
      "['che', 'delhi', 'hyd', 'mum', 'pune', 'sec', 'viz']\n"
     ]
    }
   ],
   "source": [
    "#sort() on list obj :(ascening )\n",
    "sts.sort()\n",
    "print(sts)"
   ]
  },
  {
   "cell_type": "code",
   "execution_count": 14,
   "id": "5b5b90fc",
   "metadata": {},
   "outputs": [
    {
     "name": "stdout",
     "output_type": "stream",
     "text": [
      "['viz', 'sec', 'pune', 'mum', 'hyd', 'delhi', 'che']\n"
     ]
    }
   ],
   "source": [
    "# sort () reverse\n",
    "sts.sort(reverse = True)\n",
    "print(sts)"
   ]
  },
  {
   "cell_type": "code",
   "execution_count": 15,
   "id": "17228a40",
   "metadata": {},
   "outputs": [
    {
     "data": {
      "text/plain": [
       "7"
      ]
     },
     "execution_count": 15,
     "metadata": {},
     "output_type": "execute_result"
    }
   ],
   "source": [
    "# how many obj , we have in given lst\n",
    "len(sts)"
   ]
  },
  {
   "cell_type": "code",
   "execution_count": 17,
   "id": "75bf4f86",
   "metadata": {},
   "outputs": [
    {
     "data": {
      "text/plain": [
       "['viz', 'sec', 'pune', 'mum', 'hyd', 'delhi', 'che', 'KINzg']"
      ]
     },
     "execution_count": 17,
     "metadata": {},
     "output_type": "execute_result"
    }
   ],
   "source": [
    "sts +[\"KINzg\"]\n"
   ]
  },
  {
   "cell_type": "code",
   "execution_count": 18,
   "id": "32cef0c4",
   "metadata": {},
   "outputs": [],
   "source": [
    "sts = sts + [\"KING\"]"
   ]
  },
  {
   "cell_type": "code",
   "execution_count": 19,
   "id": "7fbfa2d8",
   "metadata": {},
   "outputs": [
    {
     "name": "stdout",
     "output_type": "stream",
     "text": [
      "['viz', 'sec', 'pune', 'mum', 'hyd', 'delhi', 'che', 'KING']\n"
     ]
    }
   ],
   "source": [
    "print(sts)"
   ]
  },
  {
   "cell_type": "code",
   "execution_count": 20,
   "id": "1660e626",
   "metadata": {},
   "outputs": [
    {
     "data": {
      "text/plain": [
       "['viz',\n",
       " 'sec',\n",
       " 'pune',\n",
       " 'mum',\n",
       " 'hyd',\n",
       " 'delhi',\n",
       " 'che',\n",
       " 'KING',\n",
       " 'viz',\n",
       " 'sec',\n",
       " 'pune',\n",
       " 'mum',\n",
       " 'hyd',\n",
       " 'delhi',\n",
       " 'che',\n",
       " 'KING']"
      ]
     },
     "execution_count": 20,
     "metadata": {},
     "output_type": "execute_result"
    }
   ],
   "source": [
    "sts * 2"
   ]
  },
  {
   "cell_type": "code",
   "execution_count": 21,
   "id": "51936fbd",
   "metadata": {},
   "outputs": [],
   "source": [
    "# Nested List :\n",
    "lst_1 = [1,2,3]\n",
    "lst_2 = [4,5,6]\n",
    "lst_3 = [7,8,9]\n",
    "matrix = [lst_1,lst_2,lst_3]"
   ]
  },
  {
   "cell_type": "code",
   "execution_count": 22,
   "id": "cd37e88b",
   "metadata": {},
   "outputs": [
    {
     "name": "stdout",
     "output_type": "stream",
     "text": [
      "[[1, 2, 3], [4, 5, 6], [7, 8, 9]]\n"
     ]
    }
   ],
   "source": [
    "print(matrix)"
   ]
  },
  {
   "cell_type": "code",
   "execution_count": 23,
   "id": "ba6a5ba1",
   "metadata": {},
   "outputs": [
    {
     "name": "stdout",
     "output_type": "stream",
     "text": [
      "[1, 2, 3]\n"
     ]
    }
   ],
   "source": [
    "print(matrix[0])"
   ]
  },
  {
   "cell_type": "code",
   "execution_count": 24,
   "id": "e4377cd4",
   "metadata": {},
   "outputs": [
    {
     "name": "stdout",
     "output_type": "stream",
     "text": [
      "2\n"
     ]
    }
   ],
   "source": [
    "print(matrix[0][1])"
   ]
  },
  {
   "cell_type": "code",
   "execution_count": 25,
   "id": "ba08e7fb",
   "metadata": {},
   "outputs": [
    {
     "name": "stdout",
     "output_type": "stream",
     "text": [
      "8\n"
     ]
    }
   ],
   "source": [
    "print(matrix[2][1])"
   ]
  },
  {
   "cell_type": "code",
   "execution_count": 26,
   "id": "471da7a8",
   "metadata": {},
   "outputs": [
    {
     "name": "stdout",
     "output_type": "stream",
     "text": [
      "6\n"
     ]
    }
   ],
   "source": [
    "print(matrix[1][2])"
   ]
  },
  {
   "cell_type": "code",
   "execution_count": 28,
   "id": "4f7112df",
   "metadata": {},
   "outputs": [
    {
     "data": {
      "text/plain": [
       "tuple"
      ]
     },
     "execution_count": 28,
     "metadata": {},
     "output_type": "execute_result"
    }
   ],
   "source": [
    "x = (1,2,3,\"king\",\"mac\",4,6,7,\"jack\")\n",
    "#+Ve 0 1 2   3      4   5 6 7    8\n",
    "#-Ve-9-8-7  -6     -5  -4-3-2   -1\n",
    "type(x)"
   ]
  },
  {
   "cell_type": "code",
   "execution_count": 29,
   "id": "6909eb51",
   "metadata": {},
   "outputs": [
    {
     "name": "stdout",
     "output_type": "stream",
     "text": [
      "(1, 2, 3, 'king', 'mac', 4, 6, 7, 'jack')\n"
     ]
    }
   ],
   "source": [
    "print(x)"
   ]
  },
  {
   "cell_type": "code",
   "execution_count": 30,
   "id": "325c64f3",
   "metadata": {},
   "outputs": [
    {
     "name": "stdout",
     "output_type": "stream",
     "text": [
      "mac\n"
     ]
    }
   ],
   "source": [
    "print(x[4])"
   ]
  },
  {
   "cell_type": "code",
   "execution_count": 31,
   "id": "db48faf4",
   "metadata": {},
   "outputs": [
    {
     "ename": "AttributeError",
     "evalue": "'tuple' object has no attribute 'append'",
     "output_type": "error",
     "traceback": [
      "\u001b[1;31m---------------------------------------------------------------------------\u001b[0m",
      "\u001b[1;31mAttributeError\u001b[0m                            Traceback (most recent call last)",
      "Cell \u001b[1;32mIn[31], line 1\u001b[0m\n\u001b[1;32m----> 1\u001b[0m x\u001b[38;5;241m.\u001b[39mappend(\u001b[38;5;124m\"\u001b[39m\u001b[38;5;124mjhkj\u001b[39m\u001b[38;5;124m\"\u001b[39m)\n",
      "\u001b[1;31mAttributeError\u001b[0m: 'tuple' object has no attribute 'append'"
     ]
    }
   ],
   "source": [
    "x.append(\"jhkj\")"
   ]
  },
  {
   "cell_type": "code",
   "execution_count": 32,
   "id": "f6085aa1",
   "metadata": {},
   "outputs": [],
   "source": [
    "# Nested Complex Datatype\n",
    "# List of Tuple \n",
    "lt = [(\"sony\",3,\"f\"),(\"tony\",5,\"m\")]"
   ]
  },
  {
   "cell_type": "code",
   "execution_count": 33,
   "id": "c2ba275d",
   "metadata": {},
   "outputs": [
    {
     "name": "stdout",
     "output_type": "stream",
     "text": [
      "('sony', 3, 'f')\n"
     ]
    }
   ],
   "source": [
    "print(lt[0])"
   ]
  },
  {
   "cell_type": "code",
   "execution_count": 34,
   "id": "6e4ba86f",
   "metadata": {},
   "outputs": [
    {
     "name": "stdout",
     "output_type": "stream",
     "text": [
      "3\n"
     ]
    }
   ],
   "source": [
    "print(lt[0][1])"
   ]
  },
  {
   "cell_type": "code",
   "execution_count": 35,
   "id": "12b9c422",
   "metadata": {},
   "outputs": [],
   "source": [
    "# Tuple of list objects \n",
    "tu = (\"ravi\",25,[\"btech\",\"mtech\"])"
   ]
  },
  {
   "cell_type": "code",
   "execution_count": 37,
   "id": "651aef61",
   "metadata": {},
   "outputs": [
    {
     "name": "stdout",
     "output_type": "stream",
     "text": [
      "btech\n"
     ]
    }
   ],
   "source": [
    "print(tu[2][0])"
   ]
  },
  {
   "cell_type": "code",
   "execution_count": 38,
   "id": "fbd8ea7a",
   "metadata": {},
   "outputs": [],
   "source": [
    "dt = {\"man\":\"tony\",\n",
    "     \"women\":\"mac\",\n",
    "     \"other\":\"dog\",\n",
    "     \"marks\":456}"
   ]
  },
  {
   "cell_type": "code",
   "execution_count": 39,
   "id": "9091ec42",
   "metadata": {},
   "outputs": [
    {
     "data": {
      "text/plain": [
       "dict"
      ]
     },
     "execution_count": 39,
     "metadata": {},
     "output_type": "execute_result"
    }
   ],
   "source": [
    "type(dt)"
   ]
  },
  {
   "cell_type": "code",
   "execution_count": 40,
   "id": "bc287fd9",
   "metadata": {},
   "outputs": [],
   "source": [
    "another ={}"
   ]
  },
  {
   "cell_type": "code",
   "execution_count": 41,
   "id": "0c577309",
   "metadata": {},
   "outputs": [],
   "source": [
    "another[\"Day\"] = \"tuesday\"\n",
    "dt[\"Day\"] = \"Friday\""
   ]
  },
  {
   "cell_type": "code",
   "execution_count": 42,
   "id": "fb9930ee",
   "metadata": {},
   "outputs": [
    {
     "data": {
      "text/plain": [
       "{'man': 'tony', 'women': 'mac', 'other': 'dog', 'marks': 456, 'Day': 'Friday'}"
      ]
     },
     "execution_count": 42,
     "metadata": {},
     "output_type": "execute_result"
    }
   ],
   "source": [
    "dt"
   ]
  },
  {
   "cell_type": "code",
   "execution_count": 43,
   "id": "8b74e9cd",
   "metadata": {},
   "outputs": [
    {
     "data": {
      "text/plain": [
       "{'Day': 'tuesday'}"
      ]
     },
     "execution_count": 43,
     "metadata": {},
     "output_type": "execute_result"
    }
   ],
   "source": [
    "another"
   ]
  },
  {
   "cell_type": "code",
   "execution_count": 44,
   "id": "76eddf4d",
   "metadata": {},
   "outputs": [],
   "source": [
    "# chage obj value\n",
    "dt[\"Day\"] = \"Sunday\""
   ]
  },
  {
   "cell_type": "code",
   "execution_count": 45,
   "id": "5c1d71eb",
   "metadata": {},
   "outputs": [
    {
     "data": {
      "text/plain": [
       "{'man': 'tony', 'women': 'mac', 'other': 'dog', 'marks': 456, 'Day': 'Sunday'}"
      ]
     },
     "execution_count": 45,
     "metadata": {},
     "output_type": "execute_result"
    }
   ],
   "source": [
    "dt"
   ]
  },
  {
   "cell_type": "code",
   "execution_count": 49,
   "id": "b1f22119",
   "metadata": {},
   "outputs": [
    {
     "name": "stdout",
     "output_type": "stream",
     "text": [
      "{'man': 'tony', 'women': 'mac', 'other': 'dog', 'marks': 456, 'Day': 'Sunday'}\n"
     ]
    }
   ],
   "source": [
    "print(dt)"
   ]
  },
  {
   "cell_type": "code",
   "execution_count": 50,
   "id": "7dc7326d",
   "metadata": {},
   "outputs": [
    {
     "name": "stdout",
     "output_type": "stream",
     "text": [
      "tony\n"
     ]
    }
   ],
   "source": [
    "print(dt['man'])"
   ]
  },
  {
   "cell_type": "code",
   "execution_count": 51,
   "id": "b5f9dbd5",
   "metadata": {},
   "outputs": [],
   "source": [
    "# Nested :\n",
    "# list , tuple , dict \n",
    "# dict , tuple\n",
    "plist = {\"p1\":(\"tv\",4000,1)}"
   ]
  },
  {
   "cell_type": "code",
   "execution_count": 52,
   "id": "20931d94",
   "metadata": {},
   "outputs": [],
   "source": [
    "lt = {2014:[\"java\",\"c\",\"c++\"],\n",
    "     2015:[\"c\",\"c++\",\"java\"]}"
   ]
  },
  {
   "cell_type": "code",
   "execution_count": 53,
   "id": "8e421579",
   "metadata": {},
   "outputs": [],
   "source": [
    "sales = {(\"b1\",\"p1\"):[100,200,500],\n",
    "        (\"b1\",\"p2\"):[250,360,780],\n",
    "        (\"b3\",\"p3\"):[582,25,36]}"
   ]
  },
  {
   "cell_type": "code",
   "execution_count": 56,
   "id": "27259936",
   "metadata": {},
   "outputs": [
    {
     "name": "stdout",
     "output_type": "stream",
     "text": [
      "9\n"
     ]
    }
   ],
   "source": [
    "x = 4\n",
    "y = 5\n",
    "z = x+ y \n",
    "print(z)"
   ]
  },
  {
   "cell_type": "code",
   "execution_count": 57,
   "id": "0086188b",
   "metadata": {},
   "outputs": [],
   "source": [
    "# input():\n",
    "# declare values / accept values at run time:\n"
   ]
  },
  {
   "cell_type": "code",
   "execution_count": 60,
   "id": "3272e9a6",
   "metadata": {},
   "outputs": [
    {
     "name": "stdout",
     "output_type": "stream",
     "text": [
      "85\n",
      "45\n",
      "130\n"
     ]
    }
   ],
   "source": [
    "x = int(input())\n",
    "y = int(input())\n",
    "z = x + y\n",
    "print(z)"
   ]
  },
  {
   "cell_type": "code",
   "execution_count": 61,
   "id": "dbed3759",
   "metadata": {},
   "outputs": [
    {
     "name": "stdout",
     "output_type": "stream",
     "text": [
      "python\n"
     ]
    }
   ],
   "source": [
    "name = \"python\"\n",
    "\n",
    "print(name)"
   ]
  },
  {
   "cell_type": "code",
   "execution_count": 63,
   "id": "3723134a",
   "metadata": {},
   "outputs": [
    {
     "name": "stdout",
     "output_type": "stream",
     "text": [
      "queen\n",
      "queen\n"
     ]
    }
   ],
   "source": [
    "name = input()\n",
    "print(name)"
   ]
  },
  {
   "cell_type": "code",
   "execution_count": 64,
   "id": "00cf6c63",
   "metadata": {},
   "outputs": [
    {
     "name": "stdout",
     "output_type": "stream",
     "text": [
      "Enter x value : 45\n"
     ]
    }
   ],
   "source": [
    "x = int(input(\"Enter x value : \"))"
   ]
  },
  {
   "cell_type": "code",
   "execution_count": null,
   "id": "be6f14da",
   "metadata": {},
   "outputs": [],
   "source": []
  }
 ],
 "metadata": {
  "kernelspec": {
   "display_name": "Python 3 (ipykernel)",
   "language": "python",
   "name": "python3"
  },
  "language_info": {
   "codemirror_mode": {
    "name": "ipython",
    "version": 3
   },
   "file_extension": ".py",
   "mimetype": "text/x-python",
   "name": "python",
   "nbconvert_exporter": "python",
   "pygments_lexer": "ipython3",
   "version": "3.11.5"
  }
 },
 "nbformat": 4,
 "nbformat_minor": 5
}
